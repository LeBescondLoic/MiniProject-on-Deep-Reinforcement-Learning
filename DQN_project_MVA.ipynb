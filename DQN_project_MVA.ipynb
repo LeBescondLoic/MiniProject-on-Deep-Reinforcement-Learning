{
  "nbformat": 4,
  "nbformat_minor": 0,
  "metadata": {
    "kernelspec": {
      "name": "python3",
      "display_name": "Python 3"
    },
    "language_info": {
      "codemirror_mode": {
        "name": "ipython",
        "version": 3
      },
      "file_extension": ".py",
      "mimetype": "text/x-python",
      "name": "python",
      "nbconvert_exporter": "python",
      "pygments_lexer": "ipython3",
      "version": "3.5.7"
    },
    "colab": {
      "name": "DQN_project_MVA.ipynb",
      "provenance": [],
      "collapsed_sections": []
    },
    "accelerator": "TPU"
  },
  "cells": [
    {
      "cell_type": "markdown",
      "metadata": {
        "id": "2HHJWVeSWLFQ",
        "colab_type": "text"
      },
      "source": [
        "**You may need to install [OpenCV](https://pypi.python.org/pypi/opencv-python) and [scikit-video](http://www.scikit-video.org/stable/).**"
      ]
    },
    {
      "cell_type": "code",
      "metadata": {
        "id": "FcKHJw7RWLFZ",
        "colab_type": "code",
        "outputId": "68afbe00-3296-4d12-df95-f1527c4e1d9d",
        "colab": {
          "base_uri": "https://localhost:8080/",
          "height": 80
        }
      },
      "source": [
        "import keras\n",
        "import numpy as np\n",
        "import io\n",
        "import base64\n",
        "from IPython.display import HTML\n",
        "import skvideo.io\n",
        "import cv2\n",
        "import json\n",
        "import matplotlib.pyplot as plt\n",
        "\n",
        "from keras.models import Sequential,model_from_json\n",
        "from keras.layers.core import Dense\n",
        "from keras.optimizers import adam\n",
        "from keras.layers import Conv2D, MaxPooling2D, Activation, AveragePooling2D,Reshape,BatchNormalization,Dropout,Flatten"
      ],
      "execution_count": 2,
      "outputs": [
        {
          "output_type": "stream",
          "text": [
            "Using TensorFlow backend.\n"
          ],
          "name": "stderr"
        },
        {
          "output_type": "display_data",
          "data": {
            "text/html": [
              "<p style=\"color: red;\">\n",
              "The default version of TensorFlow in Colab will soon switch to TensorFlow 2.x.<br>\n",
              "We recommend you <a href=\"https://www.tensorflow.org/guide/migrate\" target=\"_blank\">upgrade</a> now \n",
              "or ensure your notebook will continue to use TensorFlow 1.x via the <code>%tensorflow_version 1.x</code> magic:\n",
              "<a href=\"https://colab.research.google.com/notebooks/tensorflow_version.ipynb\" target=\"_blank\">more info</a>.</p>\n"
            ],
            "text/plain": [
              "<IPython.core.display.HTML object>"
            ]
          },
          "metadata": {
            "tags": []
          }
        }
      ]
    },
    {
      "cell_type": "markdown",
      "metadata": {
        "id": "TcJu611_WLFl",
        "colab_type": "text"
      },
      "source": [
        "# MiniProject on Deep Reinforcement Learning"
      ]
    },
    {
      "cell_type": "markdown",
      "metadata": {
        "id": "DAeR9Bm5WLFm",
        "colab_type": "text"
      },
      "source": [
        "__Notations__: $E_p$ is the expectation under probability $p$. Please justify each of your answer and widely comment your code."
      ]
    },
    {
      "cell_type": "markdown",
      "metadata": {
        "id": "6GE4XoejWLFt",
        "colab_type": "text"
      },
      "source": [
        "# Context"
      ]
    },
    {
      "cell_type": "markdown",
      "metadata": {
        "id": "-66Omy2LWLFv",
        "colab_type": "text"
      },
      "source": [
        "In a reinforcement learning algorithm, we modelize each step $t$ as an action $a_t$ obtained from a state $s_t$, i.e. $\\{(a_{t},s_{t})_{t\\leq T}\\}$ having the Markov property. We consider a discount factor $\\gamma \\in [0,1]$ that ensures convergence. The goal is to find among all the policies $\\pi$, one that maximizes the expected reward:\n",
        "\n",
        "\\begin{equation*}\n",
        "R(\\pi)=\\sum_{t\\leq T}E_{p^{\\pi}}[\\gamma^t r(s_{t},a_{t})] \\> ,\n",
        "\\end{equation*}\n",
        "\n",
        "where: \n",
        "\\begin{equation*}p^{\\pi}(a_{0},a_{1},s_{1},...,a_{T},s_{T})=p(a_{0})\\prod_{t=1}^{T}\\pi(a_{t}|s_{t})p(s_{t+1}|s_{t},a_{t}) \\> .\n",
        "\\end{equation*}\n",
        "\n",
        "We note the $Q$-function:\n",
        "\n",
        "\\begin{equation*}Q^\\pi(s,a)=E_{p^{\\pi}}[\\sum_{t\\leq T}\\gamma^{t}r(s_{t},a_{t})|s_{0}=s,a_{0}=a] \\> .\n",
        "\\end{equation*}\n",
        "\n",
        "Thus, the optimal Q function is:\n",
        "\\begin{equation*}\n",
        "Q^*(s,a)=\\max_{\\pi}Q^\\pi(s,a) \\> .\n",
        "\\end{equation*}\n",
        "\n",
        "In this project, we will apply the deep reinforcement learning techniques to a simple game: an agent will have to learn from scratch a policy that will permit it maximizing a reward."
      ]
    },
    {
      "cell_type": "markdown",
      "metadata": {
        "id": "7JfS9CFTWLF5",
        "colab_type": "text"
      },
      "source": [
        "## The environment, the agent and the game"
      ]
    },
    {
      "cell_type": "markdown",
      "metadata": {
        "id": "Svus-dCrWLF-",
        "colab_type": "text"
      },
      "source": [
        "### The environment"
      ]
    },
    {
      "cell_type": "markdown",
      "metadata": {
        "id": "sSeMPdNLWLGC",
        "colab_type": "text"
      },
      "source": [
        "```Environment``` is an abstract class that represents the states, rewards, and actions to obtain the new state."
      ]
    },
    {
      "cell_type": "code",
      "metadata": {
        "id": "HX4m-d9IWLGE",
        "colab_type": "code",
        "colab": {}
      },
      "source": [
        "class Environment(object):\n",
        "    def __init__(self):\n",
        "        pass\n",
        "\n",
        "    def act(self, act):\n",
        "        \"\"\"\n",
        "        One can act on the environment and obtain its reaction:\n",
        "        - the new state\n",
        "        - the reward of the new state\n",
        "        - should we continue the game?\n",
        "\n",
        "        :return: state, reward, game_over\n",
        "        \"\"\"\n",
        "        pass\n",
        "\n",
        "\n",
        "    def reset(self):\n",
        "        \"\"\"\n",
        "        Reinitialize the environment to a random state and returns\n",
        "        the original state\n",
        "\n",
        "        :return: state\n",
        "        \"\"\"\n",
        "        pass\n",
        "    \n",
        "    def draw(self):\n",
        "        \"\"\"\n",
        "        Visualize in the console or graphically the current state\n",
        "        \"\"\"\n",
        "        pass"
      ],
      "execution_count": 0,
      "outputs": []
    },
    {
      "cell_type": "markdown",
      "metadata": {
        "id": "CLt2nUNiWLGM",
        "colab_type": "text"
      },
      "source": [
        "The method ```act``` allows to act on the environment at a given state $s_t$ (stored internally), via action $a_t$. The method will return the new state $s_{t+1}$, the reward $r(s_{t},a_{t})$ and determines if $t\\leq T$ (*game_over*).\n",
        "\n",
        "The method ```reset``` simply reinitializes the environment to a random state $s_0$.\n",
        "\n",
        "The method ```draw``` displays the current state $s_t$ (this is useful to check the behavior of the Agent).\n",
        "\n",
        "We modelize $s_t$ as a tensor, while $a_t$ is an integer."
      ]
    },
    {
      "cell_type": "markdown",
      "metadata": {
        "id": "l-_sL1H0WLGQ",
        "colab_type": "text"
      },
      "source": [
        "### The Agent"
      ]
    },
    {
      "cell_type": "markdown",
      "metadata": {
        "id": "ZvJ5z4jTWLGS",
        "colab_type": "text"
      },
      "source": [
        "The goal of the ```Agent``` is to interact with the ```Environment``` by proposing actions $a_t$ obtained from a given state $s_t$ to attempt to maximize its __reward__ $r(s_t,a_t)$. We propose the following abstract class:"
      ]
    },
    {
      "cell_type": "code",
      "metadata": {
        "id": "bnsKtGBQWLGV",
        "colab_type": "code",
        "colab": {}
      },
      "source": [
        "class Agent(object):\n",
        "    def __init__(self, epsilon=0.1, n_action=4):\n",
        "        self.epsilon = epsilon\n",
        "        self.n_action = n_action\n",
        "    \n",
        "    def set_epsilon(self,e):\n",
        "        self.epsilon = e\n",
        "\n",
        "    def act(self,s,train=True):\n",
        "        \"\"\" This function should return the next action to do:\n",
        "        an integer between 0 and 4 (not included) with a random exploration of epsilon\"\"\"\n",
        "        if train:\n",
        "            if np.random.rand() <= self.epsilon:\n",
        "                a = np.random.randint(0, self.n_action, size=1)[0]\n",
        "            else:\n",
        "                a = self.learned_act(s)\n",
        "        else: # in some cases, this can improve the performance.. remove it if poor performances\n",
        "            a = self.learned_act(s)\n",
        "\n",
        "        return a\n",
        "\n",
        "    def learned_act(self,s):\n",
        "        \"\"\" Act via the policy of the agent, from a given state s\n",
        "        it proposes an action a\"\"\"\n",
        "        pass\n",
        "\n",
        "    def reinforce(self, s, n_s, a, r, game_over_):\n",
        "        \"\"\" This function is the core of the learning algorithm. \n",
        "        It takes as an input the current state s_, the next state n_s_\n",
        "        the action a_ used to move from s_ to n_s_ and the reward r_.\n",
        "        \n",
        "        Its goal is to learn a policy.\n",
        "        \"\"\"\n",
        "        pass\n",
        "\n",
        "    def save(self):\n",
        "        \"\"\" This function returns basic stats if applicable: the\n",
        "        loss and/or the model\"\"\"\n",
        "        pass\n",
        "\n",
        "    def load(self):\n",
        "        \"\"\" This function allows to restore a model\"\"\"\n",
        "        pass"
      ],
      "execution_count": 0,
      "outputs": []
    },
    {
      "cell_type": "markdown",
      "metadata": {
        "id": "n15kvsfpWLGq",
        "colab_type": "text"
      },
      "source": [
        "***\n",
        "__Question 1__:\n",
        "Explain the function act. Why is ```epsilon``` essential?"
      ]
    },
    {
      "cell_type": "markdown",
      "metadata": {
        "id": "C7G6xx6OWLGv",
        "colab_type": "text"
      },
      "source": [
        "La fonction act retourne une action pour un état s donné. Avec une probabilité $\\epsilon$, elle renvoie une action aléatoire prise dans l'espace des actions possibles. Avec une probabilité $1-\\epsilon$, elle renvoie l'action correspondant à la valeur de la policy pour l'état s. Cet $\\epsilon$ est important car il traduit l'importance entre exploration et exploitation. En effet, plus il est important, et plus on favorisera l'exploration (action aléatoire) à l'exploitation (action prise en accord avec la policy courrante), et inversement."
      ]
    },
    {
      "cell_type": "markdown",
      "metadata": {
        "id": "0XQ9UO28WLGz",
        "colab_type": "text"
      },
      "source": [
        "***\n",
        "### The Game"
      ]
    },
    {
      "cell_type": "markdown",
      "metadata": {
        "id": "H5kAaWxnWLG1",
        "colab_type": "text"
      },
      "source": [
        "The ```Agent``` and the ```Environment``` work in an interlaced way as in the following (take some time to understand this code as it is the core of the project)\n",
        "\n",
        "```python\n",
        "\n",
        "epoch = 300\n",
        "env = Environment()\n",
        "agent = Agent()\n",
        "\n",
        "\n",
        "# Number of won games\n",
        "score = 0\n",
        "loss = 0\n",
        "\n",
        "\n",
        "for e in range(epoch):\n",
        "    # At each epoch, we restart to a fresh game and get the initial state\n",
        "    state = env.reset()\n",
        "    # This assumes that the games will end\n",
        "    game_over = False\n",
        "\n",
        "    win = 0\n",
        "    lose = 0\n",
        "    \n",
        "    while not game_over:\n",
        "        # The agent performs an action\n",
        "        action = agent.act(state)\n",
        "\n",
        "        # Apply an action to the environment, get the next state, the reward\n",
        "        # and if the games end\n",
        "        prev_state = state\n",
        "        state, reward, game_over = env.act(action)\n",
        "\n",
        "        # Update the counters\n",
        "        if reward > 0:\n",
        "            win = win + reward\n",
        "        if reward < 0:\n",
        "            lose = lose -reward\n",
        "\n",
        "        # Apply the reinforcement strategy\n",
        "        loss = agent.reinforce(prev_state, state,  action, reward, game_over)\n",
        "\n",
        "    # Save as a mp4\n",
        "    if e % 10 == 0:\n",
        "        env.draw(e)\n",
        "\n",
        "    # Update stats\n",
        "    score += win-lose\n",
        "\n",
        "    print(\"Epoch {:03d}/{:03d} | Loss {:.4f} | Win/lose count {}/{} ({})\"\n",
        "          .format(e, epoch, loss, win, lose, win-lose))\n",
        "    agent.save()\n",
        "```"
      ]
    },
    {
      "cell_type": "markdown",
      "metadata": {
        "id": "uM4tPCXZWLG3",
        "colab_type": "text"
      },
      "source": [
        "# The game, *eat cheese*"
      ]
    },
    {
      "cell_type": "markdown",
      "metadata": {
        "id": "6BqHScr6WLG5",
        "colab_type": "text"
      },
      "source": [
        "A rat runs on an island and tries to eat as much as possible. The island is subdivided into $N\\times N$ cells, in which there are cheese (+0.5) and poisonous cells (-1). The rat has a visibility of 2 cells (thus it can see $5^2$ cells). The rat is given a time $T$ to accumulate as much food as possible. It can perform 4 actions: going up, down, left, right. \n",
        "\n",
        "The goal is to code an agent to solve this task that will learn by trial and error. We propose the following environment:"
      ]
    },
    {
      "cell_type": "code",
      "metadata": {
        "id": "WKVElGXOWLG8",
        "colab_type": "code",
        "colab": {}
      },
      "source": [
        "class Environment(object):\n",
        "    def __init__(self, grid_size=10, max_time=500, temperature=0.1):\n",
        "        grid_size = grid_size+4\n",
        "        self.grid_size = grid_size\n",
        "        self.max_time = max_time\n",
        "        self.temperature = temperature\n",
        "\n",
        "        #board on which one plays\n",
        "        self.board = np.zeros((grid_size,grid_size))\n",
        "        self.position = np.zeros((grid_size,grid_size))\n",
        "\n",
        "        # coordinate of the cat\n",
        "        self.x = 0\n",
        "        self.y = 1\n",
        "\n",
        "        # self time\n",
        "        self.t = 0\n",
        "\n",
        "        self.scale=16\n",
        "\n",
        "        self.to_draw = np.zeros((max_time+2, grid_size*self.scale, grid_size*self.scale, 3))\n",
        "\n",
        "\n",
        "    def draw(self,e):\n",
        "        skvideo.io.vwrite(str(e) + '.mp4', self.to_draw)\n",
        "\n",
        "    def get_frame(self,t):\n",
        "        b = np.zeros((self.grid_size,self.grid_size,3))+128\n",
        "        b[self.board>0,0] = 256\n",
        "        b[self.board < 0, 2] = 256\n",
        "        b[self.x,self.y,:]=256\n",
        "        b[-2:,:,:]=0\n",
        "        b[:,-2:,:]=0\n",
        "        b[:2,:,:]=0\n",
        "        b[:,:2,:]=0\n",
        "        \n",
        "        b =  cv2.resize(b, None, fx=self.scale, fy=self.scale, interpolation=cv2.INTER_NEAREST)\n",
        "\n",
        "        self.to_draw[t,:,:,:]=b\n",
        "\n",
        "\n",
        "    def act(self, action):\n",
        "        \"\"\"This function returns the new state, reward and decides if the\n",
        "        game ends.\"\"\"\n",
        "\n",
        "        self.get_frame(int(self.t))\n",
        "\n",
        "        self.position = np.zeros((self.grid_size, self.grid_size))\n",
        "\n",
        "        self.position[0:2,:]= -1\n",
        "        self.position[:,0:2] = -1\n",
        "        self.position[-2:, :] = -1\n",
        "        self.position[:,-2:] = -1\n",
        "\n",
        "        self.position[self.x, self.y] = 1\n",
        "        if action == 0:\n",
        "            if self.x == self.grid_size-3:\n",
        "                self.x = self.x-1\n",
        "            else:\n",
        "                self.x = self.x + 1\n",
        "        elif action == 1:\n",
        "            if self.x == 2:\n",
        "                self.x = self.x+1\n",
        "            else:\n",
        "                self.x = self.x-1\n",
        "        elif action == 2:\n",
        "            if self.y == self.grid_size - 3:\n",
        "                self.y = self.y - 1\n",
        "            else:\n",
        "                self.y = self.y + 1\n",
        "        elif action == 3:\n",
        "            if self.y == 2:\n",
        "                self.y = self.y + 1\n",
        "            else:\n",
        "                self.y = self.y - 1\n",
        "        else:\n",
        "            RuntimeError('Error: action not recognized')\n",
        "\n",
        "        self.t = self.t + 1\n",
        "        reward = self.board[self.x, self.y]\n",
        "        self.board[self.x, self.y] = 0\n",
        "        game_over = self.t > self.max_time\n",
        "        state = np.concatenate((self.board.reshape(self.grid_size, self.grid_size,1),\n",
        "                        self.position.reshape(self.grid_size, self.grid_size,1)),axis=2)\n",
        "        state = state[self.x-2:self.x+3,self.y-2:self.y+3,:]\n",
        "\n",
        "        return state, reward, game_over\n",
        "\n",
        "    def reset(self):\n",
        "        \"\"\"This function resets the game and returns the initial state\"\"\"\n",
        "\n",
        "        self.x = np.random.randint(3, self.grid_size-3, size=1)[0]\n",
        "        self.y = np.random.randint(3, self.grid_size-3, size=1)[0]\n",
        "\n",
        "\n",
        "        bonus = 0.5*np.random.binomial(1,self.temperature,size=self.grid_size**2)\n",
        "        bonus = bonus.reshape(self.grid_size,self.grid_size)\n",
        "\n",
        "        malus = -1.0*np.random.binomial(1,self.temperature,size=self.grid_size**2)\n",
        "        malus = malus.reshape(self.grid_size, self.grid_size)\n",
        "\n",
        "        self.to_draw = np.zeros((self.max_time+2, self.grid_size*self.scale, self.grid_size*self.scale, 3))\n",
        "\n",
        "\n",
        "        malus[bonus>0]=0\n",
        "\n",
        "        self.board = bonus + malus\n",
        "\n",
        "        self.position = np.zeros((self.grid_size, self.grid_size))\n",
        "        self.position[0:2,:]= -1\n",
        "        self.position[:,0:2] = -1\n",
        "        self.position[-2:, :] = -1\n",
        "        self.position[:,-2:] = -1\n",
        "        self.board[self.x,self.y] = 0\n",
        "        self.t = 0\n",
        "\n",
        "        state = np.concatenate((\n",
        "                               self.board.reshape(self.grid_size, self.grid_size,1),\n",
        "                        self.position.reshape(self.grid_size, self.grid_size,1)),axis=2)\n",
        "\n",
        "        state = state[self.x - 2:self.x + 3, self.y - 2:self.y + 3, :]\n",
        "        return state"
      ],
      "execution_count": 0,
      "outputs": []
    },
    {
      "cell_type": "markdown",
      "metadata": {
        "id": "iYXBFRI3WLHK",
        "colab_type": "text"
      },
      "source": [
        "The following elements are important because they correspond to the hyper parameters for this project:"
      ]
    },
    {
      "cell_type": "code",
      "metadata": {
        "id": "t21NOIe7WLHR",
        "colab_type": "code",
        "colab": {}
      },
      "source": [
        "# parameters\n",
        "size = 13\n",
        "T=200\n",
        "temperature=0.3\n",
        "epochs_train=75 # set small when debugging\n",
        "epochs_test=10 # set small when debugging\n",
        "\n",
        "# display videos\n",
        "def display_videos(name):\n",
        "    video = io.open(name, 'r+b').read()\n",
        "    encoded = base64.b64encode(video)\n",
        "    return '''<video alt=\"test\" controls>\n",
        "                <source src=\"data:video/mp4;base64,{0}\" type=\"video/mp4\" />\n",
        "             </video>'''.format(encoded.decode('ascii'))"
      ],
      "execution_count": 0,
      "outputs": []
    },
    {
      "cell_type": "markdown",
      "metadata": {
        "id": "9vt2bVSpWLHb",
        "colab_type": "text"
      },
      "source": [
        "__Question 2__ Explain the use of the arrays ```position``` and ```board```."
      ]
    },
    {
      "cell_type": "markdown",
      "metadata": {
        "id": "D2xAtLDjWLHe",
        "colab_type": "text"
      },
      "source": [
        "Les array position et board sont deux attributs de la classe Environment de taille NxN, et correspondent à l'île sur laquelle se déroule le jeu. L'array board contient les positions des bonus et des malus que le rat peut récupérer. L'array position enregistre la position du rat durant le jeu."
      ]
    },
    {
      "cell_type": "markdown",
      "metadata": {
        "id": "GbCYZyQ6WLHf",
        "colab_type": "text"
      },
      "source": [
        "## Random Agent"
      ]
    },
    {
      "cell_type": "markdown",
      "metadata": {
        "id": "FJ_Ay4xFWLHk",
        "colab_type": "text"
      },
      "source": [
        "***\n",
        "__Question 3__ Implement a random Agent (only ```learned_act``` needs to be implemented):"
      ]
    },
    {
      "cell_type": "code",
      "metadata": {
        "id": "wEvDgYf-WLHn",
        "colab_type": "code",
        "colab": {}
      },
      "source": [
        "class RandomAgent(Agent):\n",
        "    def __init__(self):\n",
        "        super(RandomAgent, self).__init__()\n",
        "        pass\n",
        "\n",
        "    def learned_act(self, s):\n",
        "        a=np.random.randint(0,4) # on choisit une action au hasard parmi les 4 disponibles\n",
        "        return a"
      ],
      "execution_count": 0,
      "outputs": []
    },
    {
      "cell_type": "markdown",
      "metadata": {
        "id": "kLx2MWoVWLHs",
        "colab_type": "text"
      },
      "source": [
        "***\n",
        "***\n",
        "__Question 4__ Visualize the game moves. You need to fill in the following function for the evaluation:"
      ]
    },
    {
      "cell_type": "code",
      "metadata": {
        "id": "jw9SZICBWLHu",
        "colab_type": "code",
        "colab": {}
      },
      "source": [
        "def test(agent,env,epochs,prefix=''):\n",
        "    # Number of won games\n",
        "    score = 0\n",
        "        \n",
        "    for e in range(epochs):\n",
        "        \n",
        "        state=env.reset()\n",
        "        game_over=False\n",
        "        win=lose=0\n",
        "        while not game_over :\n",
        "\n",
        "            action = agent.learned_act(state) # on récupère l'action correspond à l'état courrant\n",
        "            state, reward, game_over = env.act(action) #on effectue cette action et on reçoit de l'environnement un reward et le nouvel état dans lequel on se place\n",
        "            if reward > 0:\n",
        "                win = win + reward\n",
        "            if reward < 0:\n",
        "                lose = lose -reward\n",
        "\n",
        "            # Save as a mp4\n",
        "            env.draw(prefix+str(e))\n",
        "\n",
        "        # Update stats\n",
        "        score = score + win-lose\n",
        "\n",
        "        print(\"Win/lose count {}/{}. Average score ({})\"\n",
        "              .format(win, lose, score/(1+e)))\n",
        "    print('Final score: '+str(score/epochs))"
      ],
      "execution_count": 0,
      "outputs": []
    },
    {
      "cell_type": "code",
      "metadata": {
        "id": "8g3VBovUWLH8",
        "colab_type": "code",
        "outputId": "eea57532-e7f9-4179-bb74-a2fee126a275",
        "colab": {
          "base_uri": "https://localhost:8080/",
          "height": 565
        }
      },
      "source": [
        "# Initialize the game\n",
        "env = Environment(grid_size=size, max_time=T,temperature=temperature)\n",
        "\n",
        "# Initialize the agent!\n",
        "agent = RandomAgent()\n",
        "\n",
        "test(agent,env,epochs_test,prefix='random')\n",
        "HTML(display_videos('random8.mp4'))"
      ],
      "execution_count": 0,
      "outputs": [
        {
          "output_type": "stream",
          "text": [
            "Win/lose count 6.0/12.0. Average score (-6.0)\n",
            "Win/lose count 12.5/12.0. Average score (-2.75)\n",
            "Win/lose count 13.5/16.0. Average score (-2.6666666666666665)\n",
            "Win/lose count 13.0/19.0. Average score (-3.5)\n",
            "Win/lose count 11.0/13.0. Average score (-3.2)\n",
            "Win/lose count 7.0/9.0. Average score (-3.0)\n",
            "Win/lose count 13.5/10.0. Average score (-2.0714285714285716)\n",
            "Win/lose count 7.5/14.0. Average score (-2.625)\n",
            "Win/lose count 13.0/15.0. Average score (-2.5555555555555554)\n",
            "Win/lose count 9.5/10.0. Average score (-2.35)\n",
            "Win/lose count 6.5/23.0. Average score (-3.6363636363636362)\n",
            "Win/lose count 9.5/16.0. Average score (-3.875)\n",
            "Win/lose count 5.0/13.0. Average score (-4.1923076923076925)\n",
            "Win/lose count 6.5/12.0. Average score (-4.285714285714286)\n",
            "Win/lose count 14.5/9.0. Average score (-3.6333333333333333)\n",
            "Final score: -3.6333333333333333\n"
          ],
          "name": "stdout"
        },
        {
          "output_type": "execute_result",
          "data": {
            "text/html": [
              "<video alt=\"test\" controls>\n",
              "                <source src=\"data:video/mp4;base64,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\" type=\"video/mp4\" />\n",
              "             </video>"
            ],
            "text/plain": [
              "<IPython.core.display.HTML object>"
            ]
          },
          "metadata": {
            "tags": []
          },
          "execution_count": 14
        }
      ]
    },
    {
      "cell_type": "markdown",
      "metadata": {
        "id": "Qvmi3z4QWLIP",
        "colab_type": "text"
      },
      "source": [
        "***\n",
        "## DQN"
      ]
    },
    {
      "cell_type": "markdown",
      "metadata": {
        "id": "UUiiRUEWWLIR",
        "colab_type": "text"
      },
      "source": [
        "Let us assume here that $T=\\infty$.\n",
        "\n",
        "***\n",
        "__Question 5__ Let $\\pi$ be a policy, show that:\n",
        "\n",
        "\\begin{equation*}\n",
        "Q^{\\pi}(s,a)=E_{(s',a')\\sim p(.|s,a)}[r(s,a)+\\gamma Q^{\\pi}(s',a')]\n",
        "\\end{equation*}\n",
        "\n",
        "Then, show that for the optimal policy $\\pi^*$ (we assume its existence), the following holds: \n",
        "\n",
        "\\begin{equation*}\n",
        "Q^{*}(s,a)=E_{s'\\sim \\pi^*(.|s,a)}[r(s,a)+\\gamma\\max_{a'}Q^{*}(s',a')].\n",
        "\\end{equation*}\n",
        "Finally, deduce that a plausible objective is:\n",
        "\n",
        "\\begin{equation*}\n",
        "\\mathcal{L}(\\theta)=E_{s' \\sim \\pi^*(.|s,a)}\\Vert r+\\gamma\\max_{a'}Q(s',a',\\theta)-Q(s,a,\\theta)\\Vert^{2}.\n",
        "\\end{equation*}\n",
        "\n",
        "\n"
      ]
    },
    {
      "cell_type": "markdown",
      "metadata": {
        "id": "il5jNZm5WLIV",
        "colab_type": "text"
      },
      "source": [
        "1)\n",
        "On a :\n",
        "\n",
        "$Q^{\\pi}(s,a) = E_{p^{\\pi}}[\\sum\\limits_{t = 0}^{\\infty}\\gamma^{t}r(s_{t},a_{t})\\|s_0=s,a_0=a]$\n",
        "\n",
        "D'où :\n",
        "\n",
        "$Q^{\\pi}(s,a) =E_{p^{\\pi}}[\\gamma^0r(s,a) + \\gamma E_{p^{\\pi}}[\\sum\\limits_{t = 0}^{\\infty}\\gamma^{t}r(s_{t},a_{t})|s_0=s',a_0=a']$  en réindexant la somme lorsque l'on sort le terme en t=0 et par hypothèse que l'on se place dans un Markov Decision Process\n",
        "\n",
        "D'où :\n",
        "\n",
        "$Q^{\\pi}(s,a)=E_{(s',a')\\sim p^{\\pi}(.|s,a)}[r(s,a)+\\gamma Q^{\\pi}(s',a')]$"
      ]
    },
    {
      "cell_type": "markdown",
      "metadata": {
        "id": "6ZnMMDIFS2iP",
        "colab_type": "text"
      },
      "source": [
        "2)\n",
        "On a donc :   \n",
        "\n",
        "$Q^{\\pi}(s,a)= r(s,a) + \\gamma\\sum\\limits_{s'\\in S}p(s'|s,a)V^{\\pi}(s')$\n",
        "avec $V^{\\pi}(s)=Q(s,\\pi(s))$\n",
        "\n",
        "Et, la policy optimale $\\pi^*$, sous réserve d'existence, satisfait la relation suivante :\n",
        "\n",
        "$\\pi^*(s)=\\underset{a}{argmax}(Q^*(s,a))$\n",
        "\n",
        "D'où :\n",
        "\n",
        "$V^*(s)=Q(s,\\pi^*(s))=\\underset{a \\in A}{max}(Q(s,a))$\n",
        "\n",
        "On a alors :\n",
        "\n",
        "$Q^{*}(s,a)= r(s,a) + \\gamma\\sum\\limits_{s'\\in S}p(s'|s,a)\\underset{a'}{max}Q^{*}(s',a')$\n",
        "\n",
        "On retrouve donc bien :\n",
        "\n",
        "$Q^{*}(s,a)=E_{s'\\sim \\pi^*(.|s,a)}[r(s,a)+\\gamma\\underset{a'}{max}Q^{*}(s',a')]$\n"
      ]
    },
    {
      "cell_type": "markdown",
      "metadata": {
        "id": "iO8VbbMIlVml",
        "colab_type": "text"
      },
      "source": [
        "3)\n",
        "On cherche donc à trouver $\\theta$ tel que $Q(\\theta)$ satisfait pour tout s et a :\n",
        "\n",
        "$Q(s,a,\\theta)=E_{s'\\sim \\pi^*(.|s,a)}[r(s,a)+\\gamma\\underset{a'}{max}Q(s',a',\\theta)]$\n",
        "\n",
        "Pour cela, nous pouvons donc chercher à minimiser la distance entre les membres de chaque côté de l'égalité. On peut donc considérer comme fonction de perte cette même distance. Or, pour avoir une fonction de perte différentiable, nous devons considérer la norme au carré.\n",
        "\n",
        "On peut donc chercher à minimiser la fonction de perte suivante pour trouver le paramètre $\\theta$ tel que la fonction $Q(\\theta)$ soit optimale :\n",
        "\n",
        "$\\mathcal{L}(\\theta)=E_{s' \\sim \\pi^*(.|s,a)}\\Vert r+\\gamma\\max_{a'}Q(s',a',\\theta)-Q(s,a,\\theta)\\Vert^{2}$"
      ]
    },
    {
      "cell_type": "markdown",
      "metadata": {
        "id": "WKkgNCfiWLIW",
        "colab_type": "text"
      },
      "source": [
        "***\n",
        "The DQN-learning algorithm relies on these derivations to train the parameters $\\theta$ of a Deep Neural Network:\n",
        "\n",
        "1. At the state $s_t$, select the action $a_t$ with best reward using $Q_t$ and store the results;\n",
        "\n",
        "2. Obtain the new state $s_{t+1}$ from the environment $p$;\n",
        "\n",
        "3. Store $(s_t,a_t,s_{t+1})$;\n",
        "\n",
        "4. Obtain $Q_{t+1}$ by minimizing  $\\mathcal{L}$ from a recovered batch from the previously stored results.\n",
        "\n",
        "***\n",
        "__Question 6__ Implement the class ```Memory``` that stores moves (in a replay buffer) via ```remember``` and provides a ```random_access``` to these. Specify a maximum memory size to avoid side effects. You can for example use a ```list()``` and set by default ```max_memory=100```."
      ]
    },
    {
      "cell_type": "code",
      "metadata": {
        "id": "u3EIMLOKWLIX",
        "colab_type": "code",
        "colab": {}
      },
      "source": [
        "class Memory(object):\n",
        "    def __init__(self, max_memory=100):\n",
        "        self.max_memory = max_memory\n",
        "        self.memory = list()\n",
        "\n",
        "    def remember(self, m):\n",
        "        if len(self.memory)>self.max_memory: # on teste si la mémoire est pleine et on attribut à une case aléatoire la valeur m si c'est le cas\n",
        "          self.memory[np.random.randint(len(self.memory))]=m\n",
        "        else:\n",
        "          self.memory.append(m)\n",
        "    def random_access(self):\n",
        "        return self.memory[np.random.randint(len(self.memory))]"
      ],
      "execution_count": 0,
      "outputs": []
    },
    {
      "cell_type": "markdown",
      "metadata": {
        "id": "FmXJ6-OvWLId",
        "colab_type": "text"
      },
      "source": [
        "***\n",
        "The pipeline we will use for training is given below:"
      ]
    },
    {
      "cell_type": "code",
      "metadata": {
        "id": "y83V51wMWLIf",
        "colab_type": "code",
        "colab": {}
      },
      "source": [
        "def train(agent,env,epoch,prefix=''):\n",
        "    # Number of won games\n",
        "    score = 0\n",
        "    loss = 0\n",
        "\n",
        "    for e in range(epoch):\n",
        "        # At each epoch, we restart to a fresh game and get the initial state\n",
        "        state = env.reset()\n",
        "        # This assumes that the games will terminate\n",
        "        game_over = False\n",
        "\n",
        "        win = 0\n",
        "        lose = 0\n",
        "\n",
        "        while not game_over:\n",
        "            # The agent performs an action\n",
        "            action = agent.act(state)\n",
        "\n",
        "            # Apply an action to the environment, get the next state, the reward\n",
        "            # and if the games end\n",
        "            prev_state = state\n",
        "            state, reward, game_over = env.act(action)\n",
        "\n",
        "            # Update the counters\n",
        "            if reward > 0:\n",
        "                win = win + reward\n",
        "            if reward < 0:\n",
        "                lose = lose -reward\n",
        "\n",
        "            # Apply the reinforcement strategy\n",
        "            loss = agent.reinforce(prev_state, state,  action, reward, game_over)\n",
        "\n",
        "        # Save as a mp4\n",
        "        if e % 10 == 0:\n",
        "            env.draw(prefix+str(e))\n",
        "\n",
        "        # Update stats\n",
        "        score += win-lose\n",
        "\n",
        "        print(\"Epoch {:03d}/{:03d} | Loss {:.4f} | Win/lose count {}/{} ({})\"\n",
        "              .format(e, epoch, loss, win, lose, win-lose))\n",
        "        agent.save(name_weights=prefix+'model.h5',name_model=prefix+'model.json')"
      ],
      "execution_count": 0,
      "outputs": []
    },
    {
      "cell_type": "markdown",
      "metadata": {
        "id": "XptYzCAFWLIn",
        "colab_type": "text"
      },
      "source": [
        "***\n",
        "__Question 7__ Implement the DQN training algorithm using a cascade of fully connected layers. You can use different learning rate, batch size or memory size parameters. In particular, the loss might oscillate while the player will start to win the games. You have to find a good criterium."
      ]
    },
    {
      "cell_type": "code",
      "metadata": {
        "id": "MK5Xyfd9WLIp",
        "colab_type": "code",
        "colab": {}
      },
      "source": [
        "class DQN(Agent):\n",
        "    def __init__(self, grid_size,  epsilon = 0.1, memory_size=100, batch_size = 16,n_state=2):\n",
        "        super(DQN, self).__init__(epsilon = epsilon)\n",
        "\n",
        "        # Discount for Q learning\n",
        "        self.discount = 0.99\n",
        "        \n",
        "        self.grid_size = grid_size\n",
        "        \n",
        "        # number of state\n",
        "        self.n_state = n_state\n",
        "\n",
        "        # Memory\n",
        "        self.memory = Memory(memory_size)\n",
        "        \n",
        "        # Batch size when learning\n",
        "        self.batch_size = batch_size\n",
        "\n",
        "    def learned_act(self, s):\n",
        "         return np.argmax(self.model.predict(np.expand_dims(s,axis=0)))\n",
        "\n",
        "    def reinforce(self, s_, n_s_, a_, r_, game_over_):\n",
        "        # Two steps: first memorize the states, second learn from the pool\n",
        "\n",
        "        self.memory.remember([s_, n_s_, a_, r_, game_over_])\n",
        "        \n",
        "        input_states = np.zeros((self.batch_size, 5,5,self.n_state))\n",
        "        target_q = np.zeros((self.batch_size, 4))\n",
        "        \n",
        "        for i in range(self.batch_size):\n",
        "           \n",
        "            s_i,n_s_i,a_i,r_i,game_over_i = self.memory.random_access() # on récupère une transition aléatoire\n",
        "            input_states[i]=s_i #on sauvegarde pour chaque transition l'état initial\n",
        "            target_q[i,:]=self.model.predict(np.expand_dims(s_i,axis=0)) #on remplit le vecteur cible pour toutes les actions possibles avec la prediction du réseau.\n",
        "            #Nous aurions également pu laisser ces valeurs à 0, mais cela peut provoquer des conflits avec le fonction de loss ou le calcul du gradient\n",
        "\n",
        "\n",
        "            if not game_over_i:#pour l'action qui a été choisie lors de la transition, on met à jour avec la relation suivie par Q* \n",
        "              target_q[i,a_i]=r_i+self.discount*np.max(self.model.predict(np.expand_dims(n_s_i,axis=0)))\n",
        "            else:#si le jeu est terminé, il n'y pas d'état suivant et on précise donc juste le reward obtenu\n",
        "              target_q[i,a_i] = r_i\n",
        "              \n",
        "        # HINT: Clip the target to avoid exploiding gradients.. -- clipping is a bit tighter\n",
        "        target_q = np.clip(target_q, -3, 3)\n",
        "\n",
        "        l = self.model.train_on_batch(input_states, target_q)\n",
        "\n",
        "\n",
        "        return l\n",
        "\n",
        "    def save(self,name_weights='model.h5',name_model='model.json'):\n",
        "        self.model.save_weights(name_weights, overwrite=True)\n",
        "        with open(name_model, \"w\") as outfile:\n",
        "            json.dump(self.model.to_json(), outfile)\n",
        "            \n",
        "    def load(self,name_weights='model.h5',name_model='model.json'):\n",
        "        with open(name_model, \"r\") as jfile:\n",
        "            model = model_from_json(json.load(jfile))\n",
        "        model.load_weights(name_weights)\n",
        "        model.compile(\"adam\", \"mse\")\n",
        "        self.model = model\n",
        "\n",
        "            \n",
        "class DQN_FC(DQN):\n",
        "\n",
        "    def __init__(self, *args, lr=0.1,**kwargs):\n",
        "        super(DQN_FC, self).__init__( *args,**kwargs)\n",
        "        ''' J'ai utilisé un modèle simple de couches entièrement connectées, avec 1 couche à 64 neurones et une couche à 16 neurones,\n",
        "        avec de la batch normalization et du dropout pour faciliter la généralisation du modèle sur la phase de test'''\n",
        "        model = Sequential()\n",
        "        model.add(Flatten(input_shape=(5,5,self.n_state,)))\n",
        "        model.add(Dense(64))\n",
        "        model.add(BatchNormalization())\n",
        "        model.add(Dropout(0.4))\n",
        "        model.add(Activation('relu'))\n",
        "        model.add(Dense(16))\n",
        "        model.add(BatchNormalization())\n",
        "        model.add(Dropout(0.4))\n",
        "        model.add(Activation('relu'))\n",
        "        model.add(Dense(4))\n",
        "\n",
        "        model.compile(adam(lr=lr, decay=1e-4), \"mse\") #J'ai utilisé l'optimizer Adam avec lequel j'ai obtenu de meilleurs résultats que sgd\n",
        "        self.model = model\n",
        "        "
      ],
      "execution_count": 0,
      "outputs": []
    },
    {
      "cell_type": "code",
      "metadata": {
        "id": "4BYMbsmFWLIy",
        "colab_type": "code",
        "outputId": "bb0c92a7-048f-4dbc-c224-8c8504cdf11a",
        "colab": {
          "base_uri": "https://localhost:8080/",
          "height": 1000
        }
      },
      "source": [
        "env = Environment(grid_size=size, max_time=T, temperature=0.4)\n",
        "agent = DQN_FC(size, lr=0.001, epsilon = 0.15, memory_size=2500, batch_size = 32)\n",
        "train(agent, env, epochs_train, prefix='fc_train')\n",
        "HTML(display_videos('fc_train70.mp4'))"
      ],
      "execution_count": 16,
      "outputs": [
        {
          "output_type": "stream",
          "text": [
            "Epoch 000/075 | Loss 0.5868 | Win/lose count 7.0/3.0 (4.0)\n",
            "Epoch 001/075 | Loss 0.2023 | Win/lose count 8.5/5.0 (3.5)\n",
            "Epoch 002/075 | Loss 0.0675 | Win/lose count 6.0/17.0 (-11.0)\n",
            "Epoch 003/075 | Loss 0.0560 | Win/lose count 6.5/10.0 (-3.5)\n",
            "Epoch 004/075 | Loss 0.0211 | Win/lose count 4.0/3.0 (1.0)\n",
            "Epoch 005/075 | Loss 0.0254 | Win/lose count 5.0/9.0 (-4.0)\n",
            "Epoch 006/075 | Loss 0.0154 | Win/lose count 4.0/3.0 (1.0)\n",
            "Epoch 007/075 | Loss 0.0075 | Win/lose count 8.0/12.0 (-4.0)\n",
            "Epoch 008/075 | Loss 0.0126 | Win/lose count 3.5/8.0 (-4.5)\n",
            "Epoch 009/075 | Loss 0.0147 | Win/lose count 1.5/5.0 (-3.5)\n",
            "Epoch 010/075 | Loss 0.0175 | Win/lose count 5.0/3.0 (2.0)\n",
            "Epoch 011/075 | Loss 0.0036 | Win/lose count 5.5/3.0 (2.5)\n",
            "Epoch 012/075 | Loss 0.0167 | Win/lose count 4.5/9.0 (-4.5)\n",
            "Epoch 013/075 | Loss 0.0130 | Win/lose count 7.0/6.0 (1.0)\n",
            "Epoch 014/075 | Loss 0.0203 | Win/lose count 7.0/12.0 (-5.0)\n",
            "Epoch 015/075 | Loss 0.0068 | Win/lose count 6.0/5.0 (1.0)\n",
            "Epoch 016/075 | Loss 0.0105 | Win/lose count 5.5/8.0 (-2.5)\n",
            "Epoch 017/075 | Loss 0.0005 | Win/lose count 2.5/2.0 (0.5)\n",
            "Epoch 018/075 | Loss 0.0269 | Win/lose count 3.0/3.0 (0.0)\n",
            "Epoch 019/075 | Loss 0.0126 | Win/lose count 4.5/10.0 (-5.5)\n",
            "Epoch 020/075 | Loss 0.0156 | Win/lose count 5.0/4.0 (1.0)\n",
            "Epoch 021/075 | Loss 0.0101 | Win/lose count 4.5/2.0 (2.5)\n",
            "Epoch 022/075 | Loss 0.0163 | Win/lose count 4.0/5.0 (-1.0)\n",
            "Epoch 023/075 | Loss 0.0081 | Win/lose count 4.5/7.0 (-2.5)\n",
            "Epoch 024/075 | Loss 0.0155 | Win/lose count 2.0/2.0 (0.0)\n",
            "Epoch 025/075 | Loss 0.0271 | Win/lose count 7.0/9.0 (-2.0)\n",
            "Epoch 026/075 | Loss 0.0271 | Win/lose count 4.5/3.0 (1.5)\n",
            "Epoch 027/075 | Loss 0.0047 | Win/lose count 0.5/5.0 (-4.5)\n",
            "Epoch 028/075 | Loss 0.0022 | Win/lose count 5.0/5.0 (0.0)\n",
            "Epoch 029/075 | Loss 0.0172 | Win/lose count 4.5/10.0 (-5.5)\n",
            "Epoch 030/075 | Loss 0.0101 | Win/lose count 4.0/3.0 (1.0)\n",
            "Epoch 031/075 | Loss 0.0104 | Win/lose count 3.0/4.0 (-1.0)\n",
            "Epoch 032/075 | Loss 0.0068 | Win/lose count 7.0/5.0 (2.0)\n",
            "Epoch 033/075 | Loss 0.0041 | Win/lose count 3.5/2.0 (1.5)\n",
            "Epoch 034/075 | Loss 0.0052 | Win/lose count 4.5/2.0 (2.5)\n",
            "Epoch 035/075 | Loss 0.0050 | Win/lose count 4.0/2.0 (2.0)\n",
            "Epoch 036/075 | Loss 0.0117 | Win/lose count 3.0/2.0 (1.0)\n",
            "Epoch 037/075 | Loss 0.0088 | Win/lose count 4.0/6.0 (-2.0)\n",
            "Epoch 038/075 | Loss 0.0076 | Win/lose count 4.5/0 (4.5)\n",
            "Epoch 039/075 | Loss 0.0090 | Win/lose count 2.5/4.0 (-1.5)\n",
            "Epoch 040/075 | Loss 0.0103 | Win/lose count 5.5/2.0 (3.5)\n",
            "Epoch 041/075 | Loss 0.0005 | Win/lose count 4.5/2.0 (2.5)\n",
            "Epoch 042/075 | Loss 0.0117 | Win/lose count 1.5/2.0 (-0.5)\n",
            "Epoch 043/075 | Loss 0.0075 | Win/lose count 5.0/2.0 (3.0)\n",
            "Epoch 044/075 | Loss 0.0042 | Win/lose count 4.0/5.0 (-1.0)\n",
            "Epoch 045/075 | Loss 0.0080 | Win/lose count 4.5/4.0 (0.5)\n",
            "Epoch 046/075 | Loss 0.0084 | Win/lose count 4.0/5.0 (-1.0)\n",
            "Epoch 047/075 | Loss 0.0009 | Win/lose count 5.5/1.0 (4.5)\n",
            "Epoch 048/075 | Loss 0.0061 | Win/lose count 4.5/7.0 (-2.5)\n",
            "Epoch 049/075 | Loss 0.0040 | Win/lose count 7.0/4.0 (3.0)\n",
            "Epoch 050/075 | Loss 0.0179 | Win/lose count 2.0/3.0 (-1.0)\n",
            "Epoch 051/075 | Loss 0.0068 | Win/lose count 5.0/6.0 (-1.0)\n",
            "Epoch 052/075 | Loss 0.0056 | Win/lose count 2.5/3.0 (-0.5)\n",
            "Epoch 053/075 | Loss 0.0153 | Win/lose count 5.0/6.0 (-1.0)\n",
            "Epoch 054/075 | Loss 0.0014 | Win/lose count 5.0/3.0 (2.0)\n",
            "Epoch 055/075 | Loss 0.0029 | Win/lose count 9.5/6.0 (3.5)\n",
            "Epoch 056/075 | Loss 0.0114 | Win/lose count 10.5/7.0 (3.5)\n",
            "Epoch 057/075 | Loss 0.0210 | Win/lose count 4.5/3.0 (1.5)\n",
            "Epoch 058/075 | Loss 0.0030 | Win/lose count 6.5/8.0 (-1.5)\n",
            "Epoch 059/075 | Loss 0.0108 | Win/lose count 11.0/7.0 (4.0)\n",
            "Epoch 060/075 | Loss 0.0100 | Win/lose count 7.5/2.0 (5.5)\n",
            "Epoch 061/075 | Loss 0.0011 | Win/lose count 7.0/4.0 (3.0)\n",
            "Epoch 062/075 | Loss 0.0020 | Win/lose count 7.5/5.0 (2.5)\n",
            "Epoch 063/075 | Loss 0.0202 | Win/lose count 6.5/3.0 (3.5)\n",
            "Epoch 064/075 | Loss 0.0053 | Win/lose count 5.5/1.0 (4.5)\n",
            "Epoch 065/075 | Loss 0.0056 | Win/lose count 7.0/1.0 (6.0)\n",
            "Epoch 066/075 | Loss 0.0089 | Win/lose count 5.5/2.0 (3.5)\n",
            "Epoch 067/075 | Loss 0.0040 | Win/lose count 11.5/2.0 (9.5)\n",
            "Epoch 068/075 | Loss 0.0027 | Win/lose count 6.0/3.0 (3.0)\n",
            "Epoch 069/075 | Loss 0.0116 | Win/lose count 5.5/5.0 (0.5)\n",
            "Epoch 070/075 | Loss 0.0030 | Win/lose count 14.0/5.0 (9.0)\n",
            "Epoch 071/075 | Loss 0.0116 | Win/lose count 3.5/1.0 (2.5)\n",
            "Epoch 072/075 | Loss 0.0204 | Win/lose count 11.0/5.0 (6.0)\n",
            "Epoch 073/075 | Loss 0.0035 | Win/lose count 12.0/3.0 (9.0)\n",
            "Epoch 074/075 | Loss 0.0092 | Win/lose count 15.0/4.0 (11.0)\n"
          ],
          "name": "stdout"
        },
        {
          "output_type": "execute_result",
          "data": {
            "text/html": [
              "<video alt=\"test\" controls>\n",
              "                <source src=\"data:video/mp4;base64,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\" type=\"video/mp4\" />\n",
              "             </video>"
            ],
            "text/plain": [
              "<IPython.core.display.HTML object>"
            ]
          },
          "metadata": {
            "tags": []
          },
          "execution_count": 16
        }
      ]
    },
    {
      "cell_type": "markdown",
      "metadata": {
        "id": "2f-LgU44e1qE",
        "colab_type": "text"
      },
      "source": [
        "On observe qu'en utilisant un learning rate plus faible, on a de meilleurs performances. Plus espilon est élevé, et plus l'agent pourra explorer son environnement mais donc, plus on aura du mal à converger vers un score élevé car l'agent aura plus tendance à osciller autour de la même position. La taille de la mémoire permet d'obtenir de meilleurs performances mais augmente considérablement les temps de calculs. Enfin, je n'ai pas observé d'influence positive en augmentant la taille de batch.\n",
        "\n",
        "Pour le meilleur compromis entre ces différents paramètres, j'ai obtenu à l'issu de l'apprentissage un score de 11 au bout de 75 époques. J'ai choisi d'utiliser un nombre d'époques assez élevés car des réseaux entièrement connectés sont assez rapides à entraîner et je souhaitais obtenir les meilleurs performances possibles.\n",
        "\n",
        "Le score obtenu est satisfaisant. Néanmoins, le nombre d'époques nécessaire pour obtenir ce score est assez élevé. Un réseau de couches entièrement connectées n'est peut être alors pas suffisant pour retrouver $Q^*$."
      ]
    },
    {
      "cell_type": "markdown",
      "metadata": {
        "id": "rhQFK2DXWLI5",
        "colab_type": "text"
      },
      "source": [
        "***\n",
        "***\n",
        "__Question 8__ Implement the DQN training algorithm using a CNN (for example, 2 convolutional layers and one final fully connected layer)."
      ]
    },
    {
      "cell_type": "code",
      "metadata": {
        "id": "fi2SbsymWLI7",
        "colab_type": "code",
        "colab": {}
      },
      "source": [
        "class DQN_CNN(DQN):\n",
        "    def __init__(self, *args,lr=0.1,**kwargs):\n",
        "        super(DQN_CNN, self).__init__(*args,**kwargs)\n",
        "        #J'ai choisi pour ce réseau convolutif une structure à base de couches de convolutions avec 16 filtres\n",
        "        model = Sequential()\n",
        "        model.add(Conv2D(16,3,input_shape=(5,5,self.n_state,),))\n",
        "        model.add(BatchNormalization())\n",
        "        model.add(Dropout(0.4))\n",
        "        model.add(Activation('relu'))\n",
        "        model.add(Conv2D(16,3))\n",
        "        model.add(BatchNormalization())\n",
        "        model.add(Dropout(0.4))\n",
        "        model.add(Activation('relu'))\n",
        "        model.add(Flatten())\n",
        "        model.add(Dense(4))\n",
        "        \n",
        "        model.compile(adam(lr=lr, decay=1e-4), \"mse\") #J'ai choisi ici aussi d'utiliser l'optimizer Adam\n",
        "        self.model = model"
      ],
      "execution_count": 0,
      "outputs": []
    },
    {
      "cell_type": "code",
      "metadata": {
        "id": "7WxK22plWLJA",
        "colab_type": "code",
        "outputId": "86f7ac3a-ad07-40dd-ed22-156aa7f5f345",
        "colab": {
          "base_uri": "https://localhost:8080/",
          "height": 1000
        }
      },
      "source": [
        "env = Environment(grid_size=size, max_time=T, temperature=0.3)\n",
        "agent = DQN_CNN(size, lr=0.008, epsilon = 0.15, memory_size=2500, batch_size = 32)\n",
        "train(agent,env,50,prefix='cnn_train')\n",
        "HTML(display_videos('cnn_train10.mp4'))"
      ],
      "execution_count": 20,
      "outputs": [
        {
          "output_type": "stream",
          "text": [
            "Epoch 000/050 | Loss 0.0151 | Win/lose count 8.5/6.0 (2.5)\n",
            "Epoch 001/050 | Loss 0.0090 | Win/lose count 1.0/3.0 (-2.0)\n",
            "Epoch 002/050 | Loss 0.0068 | Win/lose count 4.0/5.0 (-1.0)\n",
            "Epoch 003/050 | Loss 0.0069 | Win/lose count 6.0/1.0 (5.0)\n",
            "Epoch 004/050 | Loss 0.0163 | Win/lose count 3.5/3.0 (0.5)\n",
            "Epoch 005/050 | Loss 0.0105 | Win/lose count 1.0/9.0 (-8.0)\n",
            "Epoch 006/050 | Loss 0.0047 | Win/lose count 3.0/4.0 (-1.0)\n",
            "Epoch 007/050 | Loss 0.0175 | Win/lose count 5.5/5.0 (0.5)\n",
            "Epoch 008/050 | Loss 0.0080 | Win/lose count 5.0/3.0 (2.0)\n",
            "Epoch 009/050 | Loss 0.0066 | Win/lose count 3.5/7.0 (-3.5)\n",
            "Epoch 010/050 | Loss 0.0082 | Win/lose count 4.5/2.0 (2.5)\n",
            "Epoch 011/050 | Loss 0.0068 | Win/lose count 3.5/3.0 (0.5)\n",
            "Epoch 012/050 | Loss 0.0012 | Win/lose count 5.5/2.0 (3.5)\n",
            "Epoch 013/050 | Loss 0.0105 | Win/lose count 3.0/2.0 (1.0)\n",
            "Epoch 014/050 | Loss 0.0030 | Win/lose count 1.0/2.0 (-1.0)\n",
            "Epoch 015/050 | Loss 0.0143 | Win/lose count 7.5/8.0 (-0.5)\n",
            "Epoch 016/050 | Loss 0.0045 | Win/lose count 4.5/1.0 (3.5)\n",
            "Epoch 017/050 | Loss 0.0052 | Win/lose count 6.5/9.0 (-2.5)\n",
            "Epoch 018/050 | Loss 0.0023 | Win/lose count 11.0/0 (11.0)\n",
            "Epoch 019/050 | Loss 0.0223 | Win/lose count 3.0/5.0 (-2.0)\n",
            "Epoch 020/050 | Loss 0.0104 | Win/lose count 4.5/7.0 (-2.5)\n",
            "Epoch 021/050 | Loss 0.0088 | Win/lose count 5.0/3.0 (2.0)\n",
            "Epoch 022/050 | Loss 0.0770 | Win/lose count 10.0/11.0 (-1.0)\n",
            "Epoch 023/050 | Loss 0.0126 | Win/lose count 1.5/3.0 (-1.5)\n",
            "Epoch 024/050 | Loss 0.0020 | Win/lose count 6.5/7.0 (-0.5)\n",
            "Epoch 025/050 | Loss 0.0179 | Win/lose count 4.5/6.0 (-1.5)\n",
            "Epoch 026/050 | Loss 0.0024 | Win/lose count 7.5/4.0 (3.5)\n",
            "Epoch 027/050 | Loss 0.0044 | Win/lose count 13.5/7.0 (6.5)\n",
            "Epoch 028/050 | Loss 0.0198 | Win/lose count 7.5/4.0 (3.5)\n",
            "Epoch 029/050 | Loss 0.0099 | Win/lose count 9.0/4.0 (5.0)\n",
            "Epoch 030/050 | Loss 0.0142 | Win/lose count 2.5/6.0 (-3.5)\n",
            "Epoch 031/050 | Loss 0.0096 | Win/lose count 5.0/8.0 (-3.0)\n",
            "Epoch 032/050 | Loss 0.0082 | Win/lose count 9.5/5.0 (4.5)\n",
            "Epoch 033/050 | Loss 0.0042 | Win/lose count 9.0/6.0 (3.0)\n",
            "Epoch 034/050 | Loss 0.0107 | Win/lose count 3.5/3.0 (0.5)\n",
            "Epoch 035/050 | Loss 0.0046 | Win/lose count 9.5/8.0 (1.5)\n",
            "Epoch 036/050 | Loss 0.0143 | Win/lose count 8.0/5.0 (3.0)\n",
            "Epoch 037/050 | Loss 0.0012 | Win/lose count 9.5/3.0 (6.5)\n",
            "Epoch 038/050 | Loss 0.0161 | Win/lose count 7.0/9.0 (-2.0)\n",
            "Epoch 039/050 | Loss 0.0150 | Win/lose count 13.5/9.0 (4.5)\n",
            "Epoch 040/050 | Loss 0.0045 | Win/lose count 9.5/4.0 (5.5)\n",
            "Epoch 041/050 | Loss 0.0038 | Win/lose count 9.5/8.0 (1.5)\n",
            "Epoch 042/050 | Loss 0.0123 | Win/lose count 12.0/10.0 (2.0)\n",
            "Epoch 043/050 | Loss 0.0227 | Win/lose count 10.5/7.0 (3.5)\n",
            "Epoch 044/050 | Loss 0.0122 | Win/lose count 19.0/14.0 (5.0)\n",
            "Epoch 045/050 | Loss 0.0198 | Win/lose count 16.5/10.0 (6.5)\n",
            "Epoch 046/050 | Loss 0.0291 | Win/lose count 19.0/9.0 (10.0)\n",
            "Epoch 047/050 | Loss 0.0138 | Win/lose count 16.0/8.0 (8.0)\n",
            "Epoch 048/050 | Loss 0.0531 | Win/lose count 18.0/3.0 (15.0)\n",
            "Epoch 049/050 | Loss 0.0232 | Win/lose count 22.0/14.0 (8.0)\n"
          ],
          "name": "stdout"
        },
        {
          "output_type": "execute_result",
          "data": {
            "text/html": [
              "<video alt=\"test\" controls>\n",
              "                <source src=\"data:video/mp4;base64,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\" type=\"video/mp4\" />\n",
              "             </video>"
            ],
            "text/plain": [
              "<IPython.core.display.HTML object>"
            ]
          },
          "metadata": {
            "tags": []
          },
          "execution_count": 20
        }
      ]
    },
    {
      "cell_type": "markdown",
      "metadata": {
        "id": "HBXchJHunMSO",
        "colab_type": "text"
      },
      "source": [
        "On observe ici une influence similaire des hyperparamètres. J'ai néanmoins été contraint de diminuer le nombre d'époques car les temps de calculs étaient trop longs pour tester plusieurs combinaisons. En augmentant, le learning rate, je suis parvenu à obtenir un score de 8 en seulement 50 époques, avec peu d'itérations avec un score négatif et des pointes jusqu'à 15. L'utilisation d'un CNN semble donc être préférable à un reseau FC. Nous allons maintenant observer les performances de ces modèles sur le jeu de test pour comparer leur efficacité."
      ]
    },
    {
      "cell_type": "markdown",
      "metadata": {
        "id": "Av5mdzl_WLJH",
        "colab_type": "text"
      },
      "source": [
        "***\n",
        "***\n",
        "__Question 9__ Test both algorithms and compare their performances. Which issue(s) do you observe? Observe also different behaviors by changing the temperature."
      ]
    },
    {
      "cell_type": "code",
      "metadata": {
        "id": "_yQ4J1s8WLJK",
        "colab_type": "code",
        "outputId": "8718ec7e-0925-454b-b1a7-2a8a6cf59661",
        "colab": {
          "base_uri": "https://localhost:8080/",
          "height": 425
        }
      },
      "source": [
        "env = Environment(grid_size=size, max_time=T,temperature=0.4)\n",
        "agent_cnn = DQN_CNN(size, lr=0.008, epsilon = 0.15, memory_size=2500, batch_size = 32)\n",
        "agent_cnn.load(name_weights='cnn_trainmodel.h5',name_model='cnn_trainmodel.json')\n",
        "\n",
        "agent_fc = DQN_FC(size, lr=0.001, epsilon = 0.15, memory_size=2500, batch_size = 32)\n",
        "agent_fc.load(name_weights='fc_trainmodel.h5',name_model='fc_trainmodel.json')\n",
        "print('Test of the CNN')\n",
        "test(agent_cnn,env,epochs_test,prefix='cnn_test')\n",
        "print('Test of the FC')\n",
        "test(agent_fc,env,epochs_test,prefix='fc_test')"
      ],
      "execution_count": 21,
      "outputs": [
        {
          "output_type": "stream",
          "text": [
            "Test of the CNN\n",
            "Win/lose count 2.0/3.0. Average score (-1.0)\n",
            "Win/lose count 14.0/5.0. Average score (4.0)\n",
            "Win/lose count 14.0/2.0. Average score (6.666666666666667)\n",
            "Win/lose count 7.0/2.0. Average score (6.25)\n",
            "Win/lose count 26.0/1.0. Average score (10.0)\n",
            "Win/lose count 28.5/10.0. Average score (11.416666666666666)\n",
            "Win/lose count 23.5/5.0. Average score (12.428571428571429)\n",
            "Win/lose count 20.0/4.0. Average score (12.875)\n",
            "Win/lose count 11.5/5.0. Average score (12.166666666666666)\n",
            "Win/lose count 21.0/6.0. Average score (12.45)\n",
            "Final score: 12.45\n",
            "Test of the FC\n",
            "Win/lose count 0/0. Average score (0.0)\n",
            "Win/lose count 0/0. Average score (0.0)\n",
            "Win/lose count 0.5/0. Average score (0.16666666666666666)\n",
            "Win/lose count 2.5/0. Average score (0.75)\n",
            "Win/lose count 4.0/0. Average score (1.4)\n",
            "Win/lose count 1.0/0. Average score (1.3333333333333333)\n",
            "Win/lose count 1.5/0. Average score (1.3571428571428572)\n",
            "Win/lose count 1.5/0. Average score (1.375)\n",
            "Win/lose count 0.5/0. Average score (1.2777777777777777)\n",
            "Win/lose count 1.0/0. Average score (1.25)\n",
            "Final score: 1.25\n"
          ],
          "name": "stdout"
        }
      ]
    },
    {
      "cell_type": "code",
      "metadata": {
        "id": "z2-u9qMxWLJP",
        "colab_type": "code",
        "outputId": "e3e9867e-aff2-48ea-9b19-339ba79344f2",
        "colab": {
          "base_uri": "https://localhost:8080/",
          "height": 293
        }
      },
      "source": [
        "HTML(display_videos('cnn_test9.mp4'))"
      ],
      "execution_count": 22,
      "outputs": [
        {
          "output_type": "execute_result",
          "data": {
            "text/html": [
              "<video alt=\"test\" controls>\n",
              "                <source src=\"data:video/mp4;base64,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\" type=\"video/mp4\" />\n",
              "             </video>"
            ],
            "text/plain": [
              "<IPython.core.display.HTML object>"
            ]
          },
          "metadata": {
            "tags": []
          },
          "execution_count": 22
        }
      ]
    },
    {
      "cell_type": "code",
      "metadata": {
        "id": "X-xCFy9dWLJY",
        "colab_type": "code",
        "outputId": "5e413c7e-703e-4e5e-9c0e-5c3a73f8b7a4",
        "colab": {
          "base_uri": "https://localhost:8080/",
          "height": 293
        }
      },
      "source": [
        "HTML(display_videos('fc_test9.mp4'))"
      ],
      "execution_count": 23,
      "outputs": [
        {
          "output_type": "execute_result",
          "data": {
            "text/html": [
              "<video alt=\"test\" controls>\n",
              "                <source src=\"data:video/mp4;base64,AAAAIGZ0eXBpc29tAAACAGlzb21pc28yYXZjMW1wNDEAAAAIZnJlZQAAF2NtZGF0AAACrQYF//+p3EXpvebZSLeWLNgg2SPu73gyNjQgLSBjb3JlIDE1MiByMjg1NCBlOWE1OTAzIC0gSC4yNjQvTVBFRy00IEFWQyBjb2RlYyAtIENvcHlsZWZ0IDIwMDMtMjAxNyAtIGh0dHA6Ly93d3cudmlkZW9sYW4ub3JnL3gyNjQuaHRtbCAtIG9wdGlvbnM6IGNhYmFjPTEgcmVmPTMgZGVibG9jaz0xOjA6MCBhbmFseXNlPTB4MToweDExMSBtZT1oZXggc3VibWU9NyBwc3k9MSBwc3lfcmQ9MS4wMDowLjAwIG1peGVkX3JlZj0xIG1lX3JhbmdlPTE2IGNocm9tYV9tZT0xIHRyZWxsaXM9MSA4eDhkY3Q9MCBjcW09MCBkZWFkem9uZT0yMSwxMSBmYXN0X3Bza2lwPTEgY2hyb21hX3FwX29mZnNldD00IHRocmVhZHM9MyBsb29rYWhlYWRfdGhyZWFkcz0xIHNsaWNlZF90aHJlYWRzPTAgbnI9MCBkZWNpbWF0ZT0xIGludGVybGFjZWQ9MCBibHVyYXlfY29tcGF0PTAgY29uc3RyYWluZWRfaW50cmE9MCBiZnJhbWVzPTMgYl9weXJhbWlkPTIgYl9hZGFwdD0xIGJfYmlhcz0wIGRpcmVjdD0xIHdlaWdodGI9MSBvcGVuX2dvcD0wIHdlaWdodHA9MiBrZXlpbnQ9MjUwIGtleWludF9taW49MjUgc2NlbmVjdXQ9NDAgaW50cmFfcmVmcmVzaD0wIHJjX2xvb2thaGVhZD00MCByYz1jcmYgbWJ0cmVlPTEgY3JmPTIzLjAgcWNvbXA9MC42MCBxcG1pbj0wIHFwbWF4PTY5IHFwc3RlcD00IGlwX3JhdGlvPTEuNDAgYXE9MToxLjAwAIAAAANEZYiEADf//vaH+BTZWBP+Wb/9DX/cj9uPrP1xYyEE31qvIejAGS+1H+b/rFFs6Z6UB/fgCJQAc24ZwpIoZ/8CmWxwvgUK/HE+UwozlT/KDbJHQMPKO2F9ljZpjE9b3LkaE+WrR1523cHwoXFhInPzg6hQ0BLEn9vzn4eYca2QMEUD+0PWbqhqxU+6+YbtBHeBaFHq+DL3BIe0msprPupbPZ42OZpFxS6xGCVDQctKZtLlKOJyzqDbSNlS66khWOizFNBvZnsQBzCvXHi/ZV4XRwzvGayqtm3Dj4S51IiQKjW2bfNhaxu1derJX1M/VOkR0nsejOYAIwjLh6xGFtP41ZY4oXyqBoOIS/navd/GHlbAn1DxioDD4sGILUQ95RsGIoRmFd+/JH2JPeLE9ReIqdUXm7mVLI8ik0paCWEyyi4Td+ilwJCMCrcUl5t4opvQtAAql8OrcWQvytRWAYlMYxzcUPbkqWlLrOLUJg2/padFjNZ9DLHzZ0LRvhZlMGOh0yV/gC/+CVX+XD+AlA2pPt7ZFOB88Pzm4wHQdECFceQi04OI+rgaDFm6L6OCndGEI3EAAkDf+K9yJ1pIgDmEE3HmANd8VCO3GYjVATiS72PocRgX5YQrn5r72p8PvguoHWcBA0JtMJa5+eOtZPBegfz+6WP5XYdULxiIFHzaIGeAlf70sTEwZIAfzyhOblspZ3CxmKbvYYfJhGQTUb7pv8f+XgHT4YjQFXAExBchORaMSUP2+FCLy4HJrE9/Coyf71W6PWpQ+JRbdm0YVVXW/XI29C/Q4rg0MSL0EnS3LNScLcCggxfQQ1lcLcWXqHDPEr63rcMIAFpGINCrjZUK00s4G6R0bag+fpfT9ePvYFMNIk/QqJbcP8W00x22MGOYBOK4At/TTi5E7KBG8pBo9gfIZSWYFPROqmI3pgubMc5fMqeMXwhP4WdNGjLXVwiNflv0Ryye46L+tDtSxyut3o1uqov9G4bJ9nakdvVYXyrUIbUAHU4Na2uGBqdwuzHZZckDu+GLPR0ljldbs+mbk9kFTFmwDtYcIwWVBLSRL8IC7HW3mj1OLh4QCHJIvF1ldMK0kVqxxgGbk2MjwACib8AAByUAAAAUQZohbEO//qmWAAqXgs0Pee+wU0AAAAAYQZpEPCGTKYQ3//6nhAAVAEiGwdPwEK2BAAAAEEGeYmpTwr8AEN2KwSErf5YAAAAOAZ6DakK/ABDdkxXAmlkAAAArQZqISahBaJlMCG///qeEABY/eMucyyue8fgUqWz8CmdfiMJ7IfsfX86pywAAABBBnqZFESwv/wANMHn0rcLhAAAADwGexXRCvwAR3zBg2Y4meQAAAA8BnsdqQr8AEeDQPJgjo4AAAAATQZrKSahBbJlMFEw3//6nhAABJwAAABIBnulqQr8AEdecLVYrgsUB0cEAAAASQZrsSeEKUmUwUsN//qeEAAEnAAAAEgGfC2pCvwAR15wtViuCxQHRwAAAABJBmw5J4Q6JlMFEw3/+p4QAAScAAAASAZ8takK/ABHXnC1WK4LFAdHBAAAAEkGbMEnhDyZTBTw3//6nhAABJwAAABIBn09qQr8AEdecLVYrgsUB0cAAAAASQZtSSeEPJlMFPDf//qeEAAEnAAAAEgGfcWpCvwAR15wtViuCxQHRwQAAABJBm3RJ4Q8mUwU8N//+p4QAAScAAAASAZ+TakK/ABHXnC1WK4LFAdHAAAAAEkGblknhDyZTBTw3//6nhAABJwAAABIBn7VqQr8AEdecLVYrgsUB0cAAAAASQZu4SeEPJlMFPDf//qeEAAEnAAAAEgGf12pCvwAR15wtViuCxQHRwQAAABJBm9pJ4Q8mUwU8N//+p4QAAScAAAASAZ/5akK/ABHXnC1WK4LFAdHBAAAAEkGb/EnhDyZTBTw3//6nhAABJwAAABIBnhtqQr8AEdecLVYrgsUB0cEAAAASQZoeSeEPJlMFPDf//qeEAAEnAAAAEgGePWpCvwAR15wtViuCxQHRwAAAABJBmiBJ4Q8mUwU8N//+p4QAAScAAAASAZ5fakK/ABHXnC1WK4LFAdHBAAAAEkGaQknhDyZTBTw3//6nhAABJwAAABIBnmFqQr8AEdecLVYrgsUB0cEAAAASQZpkSeEPJlMFPDf//qeEAAEnAAAAEgGeg2pCvwAR15wtViuCxQHRwQAAABJBmoZJ4Q8mUwU8N//+p4QAAScAAAASAZ6lakK/ABHXnC1WK4LFAdHBAAAAEkGaqEnhDyZTBTw3//6nhAABJwAAABIBnsdqQr8AEdecLVYrgsUB0cAAAAASQZrKSeEPJlMFPDf//qeEAAEnAAAAEgGe6WpCvwAR15wtViuCxQHRwQAAABJBmuxJ4Q8mUwU8N//+p4QAAScAAAASAZ8LakK/ABHXnC1WK4LFAdHAAAAAEkGbDknhDyZTBTw3//6nhAABJwAAABIBny1qQr8AEdecLVYrgsUB0cEAAAASQZswSeEPJlMFPDf//qeEAAEnAAAAEgGfT2pCvwAR15wtViuCxQHRwAAAABJBm1JJ4Q8mUwU8N//+p4QAAScAAAASAZ9xakK/ABHXnC1WK4LFAdHBAAAAEkGbdEnhDyZTBTw3//6nhAABJwAAABIBn5NqQr8AEdecLVYrgsUB0cAAAAASQZuWSeEPJlMFPDf//qeEAAEnAAAAEgGftWpCvwAR15wtViuCxQHRwAAAABJBm7hJ4Q8mUwU8N//+p4QAAScAAAASAZ/XakK/ABHXnC1WK4LFAdHBAAAAEkGb2knhDyZTBTw3//6nhAABJwAAABIBn/lqQr8AEdecLVYrgsUB0cEAAAASQZv8SeEPJlMFPDf//qeEAAEnAAAAEgGeG2pCvwAR15wtViuCxQHRwQAAABJBmh5J4Q8mUwU8N//+p4QAAScAAAASAZ49akK/ABHXnC1WK4LFAdHAAAAAEkGaIEnhDyZTBTw3//6nhAABJwAAABIBnl9qQr8AEdecLVYrgsUB0cEAAAASQZpCSeEPJlMFPDf//qeEAAEnAAAAEgGeYWpCvwAR15wtViuCxQHRwQAAABJBmmRJ4Q8mUwU8N//+p4QAAScAAAASAZ6DakK/ABHXnC1WK4LFAdHBAAAAEkGahknhDyZTBTw3//6nhAABJwAAABIBnqVqQr8AEdecLVYrgsUB0cEAAAASQZqoSeEPJlMFPDf//qeEAAEnAAAAEgGex2pCvwAR15wtViuCxQHRwAAAABJBmspJ4Q8mUwU8N//+p4QAAScAAAASAZ7pakK/ABHXnC1WK4LFAdHBAAAAEkGa7EnhDyZTBTw3//6nhAABJwAAABIBnwtqQr8AEdecLVYrgsUB0cAAAAASQZsOSeEPJlMFPDf//qeEAAEnAAAAEgGfLWpCvwAR15wtViuCxQHRwQAAABJBmzBJ4Q8mUwU8N//+p4QAAScAAAASAZ9PakK/ABHXnC1WK4LFAdHAAAAAEkGbUknhDyZTBTw3//6nhAABJwAAABIBn3FqQr8AEdecLVYrgsUB0cEAAAASQZt0SeEPJlMFPDf//qeEAAEnAAAAEgGfk2pCvwAR15wtViuCxQHRwAAAABJBm5ZJ4Q8mUwU8N//+p4QAAScAAAASAZ+1akK/ABHXnC1WK4LFAdHAAAAAEkGbuEnhDyZTBTw3//6nhAABJwAAABIBn9dqQr8AEdecLVYrgsUB0cEAAAASQZvaSeEPJlMFPDf//qeEAAEnAAAAEgGf+WpCvwAR15wtViuCxQHRwQAAABJBm/xJ4Q8mUwU8N//+p4QAAScAAAASAZ4bakK/ABHXnC1WK4LFAdHBAAAAEkGaHknhDyZTBTw3//6nhAABJwAAABIBnj1qQr8AEdecLVYrgsUB0cAAAAASQZogSeEPJlMFPDf//qeEAAEnAAAAEgGeX2pCvwAR15wtViuCxQHRwQAAABJBmkJJ4Q8mUwU8N//+p4QAAScAAAASAZ5hakK/ABHXnC1WK4LFAdHBAAAAEkGaZEnhDyZTBTw3//6nhAABJwAAABIBnoNqQr8AEdecLVYrgsUB0cEAAAASQZqGSeEPJlMFPDf//qeEAAEnAAAAEgGepWpCvwAR15wtViuCxQHRwQAAABJBmqhJ4Q8mUwU8N//+p4QAAScAAAASAZ7HakK/ABHXnC1WK4LFAdHAAAAAEkGayknhDyZTBTw3//6nhAABJwAAABIBnulqQr8AEdecLVYrgsUB0cEAAAASQZrsSeEPJlMFPDf//qeEAAEnAAAAEgGfC2pCvwAR15wtViuCxQHRwAAAABJBmw5J4Q8mUwU8N//+p4QAAScAAAASAZ8takK/ABHXnC1WK4LFAdHBAAAAEkGbMEnhDyZTBTw3//6nhAABJwAAABIBn09qQr8AEdecLVYrgsUB0cAAAAASQZtSSeEPJlMFPDf//qeEAAEnAAAAEgGfcWpCvwAR15wtViuCxQHRwQAAABJBm3RJ4Q8mUwU8N//+p4QAAScAAAASAZ+TakK/ABHXnC1WK4LFAdHAAAAAEkGblknhDyZTBTw3//6nhAABJwAAABIBn7VqQr8AEdecLVYrgsUB0cAAAAASQZu4SeEPJlMFPDf//qeEAAEnAAAAEgGf12pCvwAR15wtViuCxQHRwQAAABJBm9pJ4Q8mUwU8N//+p4QAAScAAAASAZ/5akK/ABHXnC1WK4LFAdHBAAAAEkGb/EnhDyZTBTw3//6nhAABJwAAABIBnhtqQr8AEdecLVYrgsUB0cEAAAASQZoeSeEPJlMFPDf//qeEAAEnAAAAEgGePWpCvwAR15wtViuCxQHRwAAAABJBmiBJ4Q8mUwU8N//+p4QAAScAAAASAZ5fakK/ABHXnC1WK4LFAdHBAAAAEkGaQknhDyZTBTw3//6nhAABJwAAABIBnmFqQr8AEdecLVYrgsUB0cEAAAASQZpkSeEPJlMFPDf//qeEAAEnAAAAEgGeg2pCvwAR15wtViuCxQHRwQAAABJBmoZJ4Q8mUwU8N//+p4QAAScAAAASAZ6lakK/ABHXnC1WK4LFAdHBAAAAEkGaqEnhDyZTBTw3//6nhAABJwAAABIBnsdqQr8AEdecLVYrgsUB0cAAAAASQZrKSeEPJlMFPDf//qeEAAEnAAAAEgGe6WpCvwAR15wtViuCxQHRwQAAABJBmuxJ4Q8mUwU8N//+p4QAAScAAAASAZ8LakK/ABHXnC1WK4LFAdHAAAAAEkGbDknhDyZTBTw3//6nhAABJwAAABIBny1qQr8AEdecLVYrgsUB0cEAAAASQZswSeEPJlMFPDf//qeEAAEnAAAAEgGfT2pCvwAR15wtViuCxQHRwAAAABJBm1JJ4Q8mUwU8N//+p4QAAScAAAASAZ9xakK/ABHXnC1WK4LFAdHBAAAAEkGbdEnhDyZTBTw3//6nhAABJwAAABIBn5NqQr8AEdecLVYrgsUB0cAAAAASQZuWSeEPJlMFPDf//qeEAAEnAAAAEgGftWpCvwAR15wtViuCxQHRwAAAABJBm7hJ4Q8mUwU8N//+p4QAAScAAAASAZ/XakK/ABHXnC1WK4LFAdHBAAAAEkGb2knhDyZTBTw3//6nhAABJwAAABIBn/lqQr8AEdecLVYrgsUB0cEAAAASQZv8SeEPJlMFPDf//qeEAAEnAAAAEgGeG2pCvwAR15wtViuCxQHRwQAAABJBmh5J4Q8mUwU8N//+p4QAAScAAAASAZ49akK/ABHXnC1WK4LFAdHAAAAAEkGaIEnhDyZTBTw3//6nhAABJwAAABIBnl9qQr8AEdecLVYrgsUB0cEAAAASQZpCSeEPJlMFPDf//qeEAAEnAAAAEgGeYWpCvwAR15wtViuCxQHRwQAAABJBmmRJ4Q8mUwU8N//+p4QAAScAAAASAZ6DakK/ABHXnC1WK4LFAdHBAAAAEkGahknhDyZTBTw3//6nhAABJwAAABIBnqVqQr8AEdecLVYrgsUB0cEAAAASQZqoSeEPJlMFPDf//qeEAAEnAAAAEgGex2pCvwAR15wtViuCxQHRwAAAABJBmspJ4Q8mUwU8N//+p4QAAScAAAASAZ7pakK/ABHXnC1WK4LFAdHBAAAAEkGa7EnhDyZTBTw3//6nhAABJwAAABIBnwtqQr8AEdecLVYrgsUB0cAAAAASQZsOSeEPJlMFPDf//qeEAAEnAAAAEgGfLWpCvwAR15wtViuCxQHRwQAAABJBmzBJ4Q8mUwU8N//+p4QAAScAAAASAZ9PakK/ABHXnC1WK4LFAdHAAAAAEkGbUknhDyZTBTw3//6nhAABJwAAABIBn3FqQr8AEdecLVYrgsUB0cEAAAASQZt0SeEPJlMFPDf//qeEAAEnAAAAEgGfk2pCvwAR15wtViuCxQHRwAAAABJBm5ZJ4Q8mUwU8N//+p4QAAScAAAASAZ+1akK/ABHXnC1WK4LFAdHAAAAAEkGbuEnhDyZTBTw3//6nhAABJwAAABIBn9dqQr8AEdecLVYrgsUB0cEAAAASQZvaSeEPJlMFPDf//qeEAAEnAAAAEgGf+WpCvwAR15wtViuCxQHRwQAAABJBm/xJ4Q8mUwU8N//+p4QAAScAAAASAZ4bakK/ABHXnC1WK4LFAdHBAAAAEkGaHknhDyZTBTw3//6nhAABJwAAABIBnj1qQr8AEdecLVYrgsUB0cAAAAASQZogSeEPJlMFPDf//qeEAAEnAAAAEgGeX2pCvwAR15wtViuCxQHRwQAAABJBmkJJ4Q8mUwU8N//+p4QAAScAAAASAZ5hakK/ABHXnC1WK4LFAdHBAAAAEkGaZEnhDyZTBTwz//6eEAAEfAAAABIBnoNqQr8AEdecLVYrgsUB0cEAAAASQZqGSeEPJlMFPDP//p4QAAR9AAAAEgGepWpCvwAR15wtViuCxQHRwQAAABJBmqhJ4Q8mUwU8L//+jLAABI0AAAASAZ7HakK/ABHXnC1WK4LFAdHAAAAAGkGayUvhCEPJEYIKAfyAf2HgCFf//jhAABFwAAAMeG1vb3YAAABsbXZoZAAAAAAAAAAAAAAAAAAAA+gAAB+QAAEAAAEAAAAAAAAAAAAAAAABAAAAAAAAAAAAAAAAAAAAAQAAAAAAAAAAAAAAAAAAQAAAAAAAAAAAAAAAAAAAAAAAAAAAAAAAAAAAAAAAAAIAAAuidHJhawAAAFx0a2hkAAAAAwAAAAAAAAAAAAAAAQAAAAAAAB+QAAAAAAAAAAAAAAAAAAAAAAABAAAAAAAAAAAAAAAAAAAAAQAAAAAAAAAAAAAAAAAAQAAAAAEQAAABEAAAAAAAJGVkdHMAAAAcZWxzdAAAAAAAAAABAAAfkAAABAAAAQAAAAALGm1kaWEAAAAgbWRoZAAAAAAAAAAAAAAAAAAAMgAAAZQAVcQAAAAAAC1oZGxyAAAAAAAAAAB2aWRlAAAAAAAAAAAAAAAAVmlkZW9IYW5kbGVyAAAACsVtaW5mAAAAFHZtaGQAAAABAAAAAAAAAAAAAAAkZGluZgAAABxkcmVmAAAAAAAAAAEAAAAMdXJsIAAAAAEAAAqFc3RibAAAAJVzdHNkAAAAAAAAAAEAAACFYXZjMQAAAAAAAAABAAAAAAAAAAAAAAAAAAAAAAEQARAASAAAAEgAAAAAAAAAAQAAAAAAAAAAAAAAAAAAAAAAAAAAAAAAAAAAAAAAAAAAABj//wAAAC9hdmNDAfQADf/hABdn9AANkZsoIhHQgAAAAwCAAAAZB4oUywEABWjr48RIAAAAGHN0dHMAAAAAAAAAAQAAAMoAAAIAAAAAFHN0c3MAAAAAAAAAAQAAAAEAAAZQY3R0cwAAAAAAAADIAAAAAgAABAAAAAABAAAIAAAAAAIAAAIAAAAAAQAACgAAAAABAAAEAAAAAAEAAAAAAAAAAQAAAgAAAAABAAAGAAAAAAEAAAIAAAAAAQAABgAAAAABAAACAAAAAAEAAAYAAAAAAQAAAgAAAAABAAAGAAAAAAEAAAIAAAAAAQAABgAAAAABAAACAAAAAAEAAAYAAAAAAQAAAgAAAAABAAAGAAAAAAEAAAIAAAAAAQAABgAAAAABAAACAAAAAAEAAAYAAAAAAQAAAgAAAAABAAAGAAAAAAEAAAIAAAAAAQAABgAAAAABAAACAAAAAAEAAAYAAAAAAQAAAgAAAAABAAAGAAAAAAEAAAIAAAAAAQAABgAAAAABAAACAAAAAAEAAAYAAAAAAQAAAgAAAAABAAAGAAAAAAEAAAIAAAAAAQAABgAAAAABAAACAAAAAAEAAAYAAAAAAQAAAgAAAAABAAAGAAAAAAEAAAIAAAAAAQAABgAAAAABAAACAAAAAAEAAAYAAAAAAQAAAgAAAAABAAAGAAAAAAEAAAIAAAAAAQAABgAAAAABAAACAAAAAAEAAAYAAAAAAQAAAgAAAAABAAAGAAAAAAEAAAIAAAAAAQAABgAAAAABAAACAAAAAAEAAAYAAAAAAQAAAgAAAAABAAAGAAAAAAEAAAIAAAAAAQAABgAAAAABAAACAAAAAAEAAAYAAAAAAQAAAgAAAAABAAAGAAAAAAEAAAIAAAAAAQAABgAAAAABAAACAAAAAAEAAAYAAAAAAQAAAgAAAAABAAAGAAAAAAEAAAIAAAAAAQAABgAAAAABAAACAAAAAAEAAAYAAAAAAQAAAgAAAAABAAAGAAAAAAEAAAIAAAAAAQAABgAAAAABAAACAAAAAAEAAAYAAAAAAQAAAgAAAAABAAAGAAAAAAEAAAIAAAAAAQAABgAAAAABAAACAAAAAAEAAAYAAAAAAQAAAgAAAAABAAAGAAAAAAEAAAIAAAAAAQAABgAAAAABAAACAAAAAAEAAAYAAAAAAQAAAgAAAAABAAAGAAAAAAEAAAIAAAAAAQAABgAAAAABAAACAAAAAAEAAAYAAAAAAQAAAgAAAAABAAAGAAAAAAEAAAIAAAAAAQAABgAAAAABAAACAAAAAAEAAAYAAAAAAQAAAgAAAAABAAAGAAAAAAEAAAIAAAAAAQAABgAAAAABAAACAAAAAAEAAAYAAAAAAQAAAgAAAAABAAAGAAAAAAEAAAIAAAAAAQAABgAAAAABAAACAAAAAAEAAAYAAAAAAQAAAgAAAAABAAAGAAAAAAEAAAIAAAAAAQAABgAAAAABAAACAAAAAAEAAAYAAAAAAQAAAgAAAAABAAAGAAAAAAEAAAIAAAAAAQAABgAAAAABAAACAAAAAAEAAAYAAAAAAQAAAgAAAAABAAAGAAAAAAEAAAIAAAAAAQAABgAAAAABAAACAAAAAAEAAAYAAAAAAQAAAgAAAAABAAAGAAAAAAEAAAIAAAAAAQAABgAAAAABAAACAAAAAAEAAAYAAAAAAQAAAgAAAAABAAAGAAAAAAEAAAIAAAAAAQAABgAAAAABAAACAAAAAAEAAAYAAAAAAQAAAgAAAAABAAAGAAAAAAEAAAIAAAAAAQAABgAAAAABAAACAAAAAAEAAAYAAAAAAQAAAgAAAAABAAAGAAAAAAEAAAIAAAAAAQAABgAAAAABAAACAAAAAAEAAAYAAAAAAQAAAgAAAAABAAAGAAAAAAEAAAIAAAAAAQAABgAAAAABAAACAAAAAAEAAAYAAAAAAQAAAgAAAAABAAAGAAAAAAEAAAIAAAAAAQAABgAAAAABAAACAAAAAAEAAAYAAAAAAQAAAgAAAAABAAAGAAAAAAEAAAIAAAAAAQAABgAAAAABAAACAAAAAAEAAAYAAAAAAQAAAgAAAAABAAAGAAAAAAEAAAIAAAAAAQAABgAAAAABAAACAAAAAAEAAAYAAAAAAQAAAgAAAAABAAAGAAAAAAEAAAIAAAAAAQAABgAAAAABAAACAAAAAAEAAAYAAAAAAQAAAgAAAAABAAAGAAAAAAEAAAIAAAAAAQAABgAAAAABAAACAAAAAAEAAAYAAAAAAQAAAgAAAAABAAAEAAAAABxzdHNjAAAAAAAAAAEAAAABAAAAygAAAAEAAAM8c3RzegAAAAAAAAAAAAAAygAABfkAAAAYAAAAHAAAABQAAAASAAAALwAAABQAAAATAAAAEwAAABcAAAAWAAAAFgAAABYAAAAWAAAAFgAAABYAAAAWAAAAFgAAABYAAAAWAAAAFgAAABYAAAAWAAAAFgAAABYAAAAWAAAAFgAAABYAAAAWAAAAFgAAABYAAAAWAAAAFgAAABYAAAAWAAAAFgAAABYAAAAWAAAAFgAAABYAAAAWAAAAFgAAABYAAAAWAAAAFgAAABYAAAAWAAAAFgAAABYAAAAWAAAAFgAAABYAAAAWAAAAFgAAABYAAAAWAAAAFgAAABYAAAAWAAAAFgAAABYAAAAWAAAAFgAAABYAAAAWAAAAFgAAABYAAAAWAAAAFgAAABYAAAAWAAAAFgAAABYAAAAWAAAAFgAAABYAAAAWAAAAFgAAABYAAAAWAAAAFgAAABYAAAAWAAAAFgAAABYAAAAWAAAAFgAAABYAAAAWAAAAFgAAABYAAAAWAAAAFgAAABYAAAAWAAAAFgAAABYAAAAWAAAAFgAAABYAAAAWAAAAFgAAABYAAAAWAAAAFgAAABYAAAAWAAAAFgAAABYAAAAWAAAAFgAAABYAAAAWAAAAFgAAABYAAAAWAAAAFgAAABYAAAAWAAAAFgAAABYAAAAWAAAAFgAAABYAAAAWAAAAFgAAABYAAAAWAAAAFgAAABYAAAAWAAAAFgAAABYAAAAWAAAAFgAAABYAAAAWAAAAFgAAABYAAAAWAAAAFgAAABYAAAAWAAAAFgAAABYAAAAWAAAAFgAAABYAAAAWAAAAFgAAABYAAAAWAAAAFgAAABYAAAAWAAAAFgAAABYAAAAWAAAAFgAAABYAAAAWAAAAFgAAABYAAAAWAAAAFgAAABYAAAAWAAAAFgAAABYAAAAWAAAAFgAAABYAAAAWAAAAFgAAABYAAAAWAAAAFgAAABYAAAAWAAAAFgAAABYAAAAWAAAAFgAAABYAAAAWAAAAFgAAABYAAAAWAAAAFgAAABYAAAAWAAAAFgAAABYAAAAWAAAAFgAAABYAAAAWAAAAFgAAABYAAAAWAAAAFgAAAB4AAAAUc3RjbwAAAAAAAAABAAAAMAAAAGJ1ZHRhAAAAWm1ldGEAAAAAAAAAIWhkbHIAAAAAAAAAAG1kaXJhcHBsAAAAAAAAAAAAAAAALWlsc3QAAAAlqXRvbwAAAB1kYXRhAAAAAQAAAABMYXZmNTcuODMuMTAw\" type=\"video/mp4\" />\n",
              "             </video>"
            ],
            "text/plain": [
              "<IPython.core.display.HTML object>"
            ]
          },
          "metadata": {
            "tags": []
          },
          "execution_count": 23
        }
      ]
    },
    {
      "cell_type": "markdown",
      "metadata": {
        "id": "2sEAP6s4WLJf",
        "colab_type": "text"
      },
      "source": [
        "On observe ici une mauvaise généralisation du modèle FC. En effet, on a un score de seulement 1.25 en moyenne. Cependant, que les performances du CNN sont même meilleures avec un score de 12.45, ce qui confirme notre première intuition de meilleur performance du réseau CNN.\n",
        "\n",
        "Pour différents niveaux de températures, on remarque une baisse de score pour les deux réseaux quand on diminue la température à 0.2. En effet, il y a moins de reward et donc il est plus difficile de les accumuler. En revanche, lorsque l'on augmente la température, le score avec le CNN augmente (on trouve en moyenne un score de 1 contre 0.7 avec une température de 0.3), alors que l'on obtient que des faibles scores pour le réseau FC. J'ai donc choisi de conserver cette température.\n",
        "\n",
        "Enfin, on observe sur les deux simulations que l'agent commence par explorer puis finit rapidement par osciller autour de la même position. Cela peut s'expliquer par le fait que nous n'ayons pas favorisé l'exploration et que donc l'agent va préférer osciller autour de la même position pour ne pas risquer d'accumuler de nouveaux malus, ce qui implique des scores faibles. Nous allons donc maintenant essayer de favoriser l'exploration pour obtenir de meilleurs scores."
      ]
    },
    {
      "cell_type": "markdown",
      "metadata": {
        "id": "7dj9rznlWLJg",
        "colab_type": "text"
      },
      "source": [
        "***\n",
        "\n",
        "The algorithm tends to not explore the map which can be an issue. We propose two ideas in order to encourage exploration:\n",
        "1. Incorporating a decreasing $\\epsilon$-greedy exploration. You can use the method ```set_epsilon```\n",
        "2. Append via the environment a new state that describes if a cell has been visited or not\n",
        "\n",
        "***\n",
        "__Question 10__ Design a new ```train_explore``` function and environment class ```EnvironmentExploring``` to tackle the issue of exploration.\n",
        "\n"
      ]
    },
    {
      "cell_type": "code",
      "metadata": {
        "id": "DpXIseokWLJh",
        "colab_type": "code",
        "colab": {}
      },
      "source": [
        "def train_explore(agent,env,epoch,decay=0.5,prefix=''):\n",
        "    # Number of won games\n",
        "    score = 0\n",
        "    loss = 0\n",
        "\n",
        "    for e in range(epoch):\n",
        "        # At each epoch, we restart to a fresh game and get the initial state\n",
        "        state = env.reset()\n",
        "        # This assumes that the games will terminate\n",
        "        game_over = False\n",
        "\n",
        "        win = 0\n",
        "        lose = 0\n",
        "\n",
        "        while not game_over:\n",
        "            # The agent performs an action\n",
        "            action = agent.act(state)\n",
        "            agent.set_epsilon(agent.epsilon*decay)\n",
        "            # Apply an action to the environment, get the next state, the reward\n",
        "            # and if the games end\n",
        "            prev_state = state\n",
        "            state, reward, game_over = env.act(action, train=True)\n",
        "\n",
        "            # Update the counters\n",
        "            if reward > 0:\n",
        "                win = win + reward\n",
        "            if reward < 0:\n",
        "                lose = lose -reward\n",
        "\n",
        "            # Apply the reinforcement strategy\n",
        "            loss = agent.reinforce(prev_state, state,  action, reward, game_over)\n",
        "\n",
        "        # Save as a mp4\n",
        "        if e % 10 == 0:\n",
        "            env.draw(prefix+str(e))\n",
        "\n",
        "        # Update stats\n",
        "        score += win-lose\n",
        "\n",
        "        print(\"Epoch {:03d}/{:03d} | Loss {:.4f} | Win/lose count {}/{} ({})\"\n",
        "              .format(e, epoch, loss, win, lose, win-lose))\n",
        "        agent.save(name_weights=prefix+'model.h5',name_model=prefix+'model.json')\n",
        "        \n",
        "class EnvironmentExploring(object):\n",
        "    def __init__(self, grid_size=10, max_time=500, temperature=0.1,malus=0.3):\n",
        "        grid_size = grid_size+4\n",
        "        self.grid_size = grid_size\n",
        "        self.max_time = max_time\n",
        "        self.temperature = temperature\n",
        "        self.malus = malus\n",
        "        #board on which one plays\n",
        "        self.malus_position=np.zeros((grid_size,grid_size)) #on initialise les malus\n",
        "        self.board = np.zeros((grid_size,grid_size))\n",
        "        self.position = np.zeros((grid_size,grid_size))\n",
        "\n",
        "        # coordinate of the cat\n",
        "        self.x = 0\n",
        "        self.y = 1\n",
        "\n",
        "        # self time\n",
        "        self.t = 0\n",
        "\n",
        "        self.scale=16\n",
        "\n",
        "        self.to_draw = np.zeros((max_time+2, grid_size*self.scale, grid_size*self.scale, 3))\n",
        "\n",
        "\n",
        "    def draw(self,e):\n",
        "        skvideo.io.vwrite(str(e) + '.mp4', self.to_draw)\n",
        "\n",
        "    def get_frame(self,t):\n",
        "        b = np.zeros((self.grid_size,self.grid_size,3))+128\n",
        "        b[self.board>0,0] = 256\n",
        "        b[self.board < 0, 2] = 256\n",
        "        b[self.x,self.y,:]=256\n",
        "        b[-2:,:,:]=0\n",
        "        b[:,-2:,:]=0\n",
        "        b[:2,:,:]=0\n",
        "        b[:,:2,:]=0\n",
        "        \n",
        "        b =  cv2.resize(b, None, fx=self.scale, fy=self.scale, interpolation=cv2.INTER_NEAREST)\n",
        "\n",
        "        self.to_draw[t,:,:,:]=b\n",
        "\n",
        "\n",
        "    def act(self, action,train=False):\n",
        "        \"\"\"This function returns the new state, reward and decides if the\n",
        "        game ends.\"\"\"\n",
        "\n",
        "        self.get_frame(int(self.t))\n",
        "\n",
        "        self.position = np.zeros((self.grid_size, self.grid_size))\n",
        "\n",
        "        self.position[0:2,:]= -1\n",
        "        self.position[:,0:2] = -1\n",
        "        self.position[-2:, :] = -1\n",
        "        self.position[:,-2:] = -1\n",
        "\n",
        "        self.position[self.x, self.y] = 1\n",
        "        if action == 0:\n",
        "            if self.x == self.grid_size-3:\n",
        "                self.x = self.x-1\n",
        "            else:\n",
        "                self.x = self.x + 1\n",
        "        elif action == 1:\n",
        "            if self.x == 2:\n",
        "                self.x = self.x+1\n",
        "            else:\n",
        "                self.x = self.x-1\n",
        "        elif action == 2:\n",
        "            if self.y == self.grid_size - 3:\n",
        "                self.y = self.y - 1\n",
        "            else:\n",
        "                self.y = self.y + 1\n",
        "        elif action == 3:\n",
        "            if self.y == 2:\n",
        "                self.y = self.y + 1\n",
        "            else:\n",
        "                self.y = self.y - 1\n",
        "        else:\n",
        "            RuntimeError('Error: action not recognized')\n",
        "\n",
        "        self.t = self.t + 1\n",
        "\n",
        "        reward = 0\n",
        "        if train:\n",
        "            reward = -self.malus_position[self.x, self.y] #on retire le malus si l'agent est déjà passé par cette case\n",
        "        self.malus_position[self.x, self.y] = self.malus\n",
        "        reward += self.board[self.x, self.y]\n",
        "\n",
        "        self.board[self.x, self.y] = 0\n",
        "        game_over = self.t > self.max_time\n",
        "        state = np.concatenate((self.malus_position.reshape(self.grid_size, self.grid_size,1),\n",
        "                                self.board.reshape(self.grid_size, self.grid_size,1),\n",
        "                        self.position.reshape(self.grid_size, self.grid_size,1)),axis=2)\n",
        "        state = state[self.x-2:self.x+3,self.y-2:self.y+3,:]\n",
        "\n",
        "        return state, reward, game_over\n",
        "\n",
        "    def reset(self):\n",
        "        \"\"\"This function resets the game and returns the initial state\"\"\"\n",
        "\n",
        "        self.x = np.random.randint(3, self.grid_size-3, size=1)[0]\n",
        "        self.y = np.random.randint(3, self.grid_size-3, size=1)[0]\n",
        "\n",
        "\n",
        "        bonus = 0.5*np.random.binomial(1,self.temperature,size=self.grid_size**2)\n",
        "        bonus = bonus.reshape(self.grid_size,self.grid_size)\n",
        "\n",
        "        malus = -1.0*np.random.binomial(1,self.temperature,size=self.grid_size**2)\n",
        "        malus = malus.reshape(self.grid_size, self.grid_size)\n",
        "\n",
        "        self.to_draw = np.zeros((self.max_time+2, self.grid_size*self.scale, self.grid_size*self.scale, 3))\n",
        "\n",
        "\n",
        "        malus[bonus>0]=0\n",
        "\n",
        "        self.board = bonus + malus\n",
        "        self.malus_position=np.zeros((self.grid_size,self.grid_size))\n",
        "        self.position = np.zeros((self.grid_size, self.grid_size))\n",
        "        self.position[0:2,:]= -1\n",
        "        self.position[:,0:2] = -1\n",
        "        self.position[-2:, :] = -1\n",
        "        self.position[:,-2:] = -1\n",
        "        self.board[self.x,self.y] = 0\n",
        "        self.t = 0\n",
        "\n",
        "        state = np.concatenate((self.malus_position.reshape(self.grid_size, self.grid_size,1),\n",
        "                                self.board.reshape(self.grid_size, self.grid_size,1),\n",
        "                        self.position.reshape(self.grid_size, self.grid_size,1)),axis=2)\n",
        "\n",
        "        state = state[self.x - 2:self.x + 3, self.y - 2:self.y + 3, :]\n",
        "        return state"
      ],
      "execution_count": 0,
      "outputs": []
    },
    {
      "cell_type": "code",
      "metadata": {
        "id": "6Zgd8J-VWLJy",
        "colab_type": "code",
        "colab": {
          "base_uri": "https://localhost:8080/",
          "height": 599
        },
        "outputId": "79cf6673-6be1-4356-f5c0-f0c4f101bce2"
      },
      "source": [
        "# Training\n",
        "env = EnvironmentExploring(grid_size=size, max_time=T, temperature=0.4,malus=0.1)\n",
        "agent = DQN_CNN(size, lr=0.008, epsilon = 0.3, memory_size=2500, batch_size = 32,n_state=3)\n",
        "train_explore(agent, env, 18, decay=0.95,prefix='cnn_train_explore')\n",
        "HTML(display_videos('cnn_train_explore10.mp4'))"
      ],
      "execution_count": 40,
      "outputs": [
        {
          "output_type": "stream",
          "text": [
            "Epoch 000/018 | Loss 0.0240 | Win/lose count 6.0/25.100000000000087 (-19.100000000000087)\n",
            "Epoch 001/018 | Loss 0.0160 | Win/lose count 6.5/20.300000000000026 (-13.800000000000026)\n",
            "Epoch 002/018 | Loss 0.0113 | Win/lose count 5.0/17.69999999999998 (-12.699999999999982)\n",
            "Epoch 003/018 | Loss 0.0040 | Win/lose count 2.5/21.50000000000003 (-19.00000000000003)\n",
            "Epoch 004/018 | Loss 0.0185 | Win/lose count 5.5/21.20000000000003 (-15.700000000000031)\n",
            "Epoch 005/018 | Loss 0.0070 | Win/lose count 9.5/25.300000000000033 (-15.800000000000033)\n",
            "Epoch 006/018 | Loss 0.0117 | Win/lose count 13.5/27.500000000000117 (-14.000000000000117)\n",
            "Epoch 007/018 | Loss 0.0060 | Win/lose count 12.5/24.300000000000043 (-11.800000000000043)\n",
            "Epoch 008/018 | Loss 0.0121 | Win/lose count 15.0/19.600000000000026 (-4.600000000000026)\n",
            "Epoch 009/018 | Loss 0.0202 | Win/lose count 21.5/18.900000000000006 (2.5999999999999943)\n",
            "Epoch 010/018 | Loss 0.0130 | Win/lose count 8.5/19.40000000000001 (-10.90000000000001)\n",
            "Epoch 011/018 | Loss 0.0150 | Win/lose count 16.0/21.80000000000002 (-5.8000000000000185)\n",
            "Epoch 012/018 | Loss 0.0060 | Win/lose count 19.5/23.100000000000037 (-3.600000000000037)\n",
            "Epoch 013/018 | Loss 0.0168 | Win/lose count 24.5/18.400000000000002 (6.099999999999998)\n",
            "Epoch 014/018 | Loss 0.0208 | Win/lose count 18.0/25.900000000000063 (-7.9000000000000625)\n",
            "Epoch 015/018 | Loss 0.0252 | Win/lose count 22.0/17.099999999999984 (4.900000000000016)\n",
            "Epoch 016/018 | Loss 0.0221 | Win/lose count 28.5/18.199999999999996 (10.300000000000004)\n",
            "Epoch 017/018 | Loss 0.0255 | Win/lose count 21.0/16.39999999999997 (4.60000000000003)\n"
          ],
          "name": "stdout"
        },
        {
          "output_type": "execute_result",
          "data": {
            "text/html": [
              "<video alt=\"test\" controls>\n",
              "                <source src=\"data:video/mp4;base64,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\" type=\"video/mp4\" />\n",
              "             </video>"
            ],
            "text/plain": [
              "<IPython.core.display.HTML object>"
            ]
          },
          "metadata": {
            "tags": []
          },
          "execution_count": 40
        }
      ]
    },
    {
      "cell_type": "code",
      "metadata": {
        "id": "ySKvi_3lWLJ8",
        "colab_type": "code",
        "colab": {
          "base_uri": "https://localhost:8080/",
          "height": 480
        },
        "outputId": "bf86b2ad-ab82-4d44-e06b-ac5658f16c5e"
      },
      "source": [
        "# Evaluation\n",
        "test(agent,env,epochs_test,prefix='cnn_test_explore')\n",
        "HTML(display_videos('cnn_test_explore9.mp4'))"
      ],
      "execution_count": 41,
      "outputs": [
        {
          "output_type": "stream",
          "text": [
            "Win/lose count 17.0/2.0. Average score (15.0)\n",
            "Win/lose count 7.0/4.0. Average score (9.0)\n",
            "Win/lose count 11.0/1.0. Average score (9.333333333333334)\n",
            "Win/lose count 21.0/3.0. Average score (11.5)\n",
            "Win/lose count 13.0/1.0. Average score (11.6)\n",
            "Win/lose count 14.5/2.0. Average score (11.75)\n",
            "Win/lose count 16.5/0. Average score (12.428571428571429)\n",
            "Win/lose count 11.5/1.0. Average score (12.1875)\n",
            "Win/lose count 17.5/1.0. Average score (12.666666666666666)\n",
            "Win/lose count 22.0/0. Average score (13.6)\n",
            "Final score: 13.6\n"
          ],
          "name": "stdout"
        },
        {
          "output_type": "execute_result",
          "data": {
            "text/html": [
              "<video alt=\"test\" controls>\n",
              "                <source src=\"data:video/mp4;base64,AAAAIGZ0eXBpc29tAAACAGlzb21pc28yYXZjMW1wNDEAAAAIZnJlZQAAF0htZGF0AAACrQYF//+p3EXpvebZSLeWLNgg2SPu73gyNjQgLSBjb3JlIDE1MiByMjg1NCBlOWE1OTAzIC0gSC4yNjQvTVBFRy00IEFWQyBjb2RlYyAtIENvcHlsZWZ0IDIwMDMtMjAxNyAtIGh0dHA6Ly93d3cudmlkZW9sYW4ub3JnL3gyNjQuaHRtbCAtIG9wdGlvbnM6IGNhYmFjPTEgcmVmPTMgZGVibG9jaz0xOjA6MCBhbmFseXNlPTB4MToweDExMSBtZT1oZXggc3VibWU9NyBwc3k9MSBwc3lfcmQ9MS4wMDowLjAwIG1peGVkX3JlZj0xIG1lX3JhbmdlPTE2IGNocm9tYV9tZT0xIHRyZWxsaXM9MSA4eDhkY3Q9MCBjcW09MCBkZWFkem9uZT0yMSwxMSBmYXN0X3Bza2lwPTEgY2hyb21hX3FwX29mZnNldD00IHRocmVhZHM9MyBsb29rYWhlYWRfdGhyZWFkcz0xIHNsaWNlZF90aHJlYWRzPTAgbnI9MCBkZWNpbWF0ZT0xIGludGVybGFjZWQ9MCBibHVyYXlfY29tcGF0PTAgY29uc3RyYWluZWRfaW50cmE9MCBiZnJhbWVzPTMgYl9weXJhbWlkPTIgYl9hZGFwdD0xIGJfYmlhcz0wIGRpcmVjdD0xIHdlaWdodGI9MSBvcGVuX2dvcD0wIHdlaWdodHA9MiBrZXlpbnQ9MjUwIGtleWludF9taW49MjUgc2NlbmVjdXQ9NDAgaW50cmFfcmVmcmVzaD0wIHJjX2xvb2thaGVhZD00MCByYz1jcmYgbWJ0cmVlPTEgY3JmPTIzLjAgcWNvbXA9MC42MCBxcG1pbj0wIHFwbWF4PTY5IHFwc3RlcD00IGlwX3JhdGlvPTEuNDAgYXE9MToxLjAwAIAAAALyZYiEADf//vaH+BTZWBP+Wb/9DX/cj9uPrP1xYyEE31qvIejAGS+1H+b/rFFs6Z6UB/fgCJQAc24ZwpHZJ46w5MIvVHwKXAT74FNJkWfWMge3fQodhup/WWDcdtGBcEbhhTRC+h5QFQuWBPyOLCsTD0IEhsQ+4s3mLLZI4Mnzob8eFnPwONnlCuG03ODx4Qn4392xFPcgs6MNZ9QljsKXmwhoTQg++Eb8Eq8oERAi0+RXV1pnzVNm0SX9qwPwaxMM6nmc7RZ9zpApxTrfqA5IWH8FhbQTJ/xkjk0AX5CgiAaRyOC1JlFbCmSB6/1WqMq3QnUn7/ZyzhKIuAsreZQDjCrEWxHlxnxmV811aUqmsey8hEqVL25UEpYjnj3aK2YmufObtjDDhA5zgn4CsyWoqgbC1pOeC8Z6roarBpTxsEYWyJ/nLUexuKHWw6zc06yRQuhk0j8EptTVEi5kAxELttGAbe9Myz4n46F5Yp6wLwt4/dZfKAtFCpkB9IWeTPg/TxkkXQuqixmh6Sg3++HdUpQltBOKg/Sd+tfP4agyG1j+iS21UPBbCvwuGAzx1VEPg7r/W7TghitBzm52ZRO0uNNdNM8aMTeSJunDEsKf/1hO+3jTYkagvbdACG5i81X8O5Ruut0x632Dby7SQRIJbxikue/hD7/nNJpMIQeAcDQSMoF4jSA/Uaq1cmPOOSCe9qD3xngX0jODS9yeOBKVcD3SggHJ2BiEPsbUYD7QusfXPWT7VxEBhS9gX/igGIjXBoiRGsAVDWbbIyILy4QKzu2gCVrFA+bxbBewdgL0nDYROhGVJOZlRDm3o2JGiB5uZy9cGPe+msPoAI3JABSUq73xMhlcAft4RevvQKXV6rL6O+f5DbSN1OeO25O7LJQKHfKv5sIUEC+0xPBIA6M8TRvq6bBQzlsTzR7l0i4uwPevXhbl7I3UKmIhOdLsQA4nJKskig5WOE7SCFQ1JmXQflMPadtbQCD5Rli6p+xYAACZgQAAAB1BmiRsQz/+nhAAgpL3A6EuN9/UPo23FrhN7suKKQAAABNBnkJ4hf8AFHY23XByuRQXVbW3AAAAEAGeYXRCvwAbp5N5Wyh6lcAAAAAPAZ5jakK/ABHZMpm2ZG1vAAAAGkGaZkmoQWiZTBTwz/6eEAB+1ah6b7rP0bQNAAAAEAGehWpCvwAbB1TyYHr3gIEAAAAaQZqHSeEKUmUwIZ/+nhAAyMhjn8OfEDh/hQ8AAAAXQZqoSeEOiZTAhn/+nhABNThHP0v7k/MAAAAYQZrJSeEPJlMCGf/+nhABPa9xoXTfdbmUAAAAGEGa6knhDyZTAhn//p4QAUavcaF033W5bQAAABtBmwtJ4Q8mUwIb//6nhAB+zjP9VvqoMf+IZ8AAAAAZQZssSeEPJlMCG//+p4QAx9In+pHRpDTQQAAAABtBm09J4Q8mUwIb//6nhAE0QBZttoDAJr+6WfEAAAAPQZ9tRRE8K/8A+AP+aXPhAAAADwGfjmpCvwD+eaILUeXSbwAAACNBm5NJqEFomUwIZ//+nhAJgvc1x0C7z4gKZ9pNqh5C1VYyoAAAABZBn7FFESwv/wEm0EfvPosWwXCwkcqAAAAAEAGf0HRCvwF/k0InxZijUPEAAAAQAZ/SakK/AZN1TyXM+SS4gAAAABpBm9VJqEFsmUwUTDP//p4QCad0308iPwut6AAAABABn/RqQr8BkyO3OtDC8NlBAAAAGEGb9knhClJlMCGf/p4QBLfiHnW6BkhlDAAAABhBmhdJ4Q6JlMCGf/6eEASX4h/bIY+sIXcAAAAYQZo4SeEPJlMCG//+p4QAw/sHr2Z8EV1lAAAAHkGaWknhDyZTBRE8M//+nhAC6e6b3TDziXdcR9UQbgAAABABnnlqQr8AmsnznWhheLHBAAAAGEGae0nhDyZTAhv//qeEAHc9g9ezPgivHwAAAB1Bmp1J4Q8mUwURPDP//p4QAcb19/Qro2TFsFUIEQAAABABnrxqQr8AX4ltOvAE/tyBAAAAGEGavknhDyZTAhn//p4QAL/6+7tObuLenAAAABhBmt9J4Q8mUwIb//6nhAAv/vsx/h9W3AMAAAAdQZriSeEPJlMCGf/+nhABFThHP4c+IHD9ut+bfpEAAAASQZ8ARRE8K/8AOgzvoW5IquOAAAAAEAGfIWpCvwA6DMHkwPXuMoEAAAAZQZsjSahBaJlMCGf//p4QAa+Qxz9GA7M/8wAAABhBm0RJ4QpSZTAhn/6eEAGx9fd2nN3Ft/0AAAAYQZtlSeEOiZTAhn/+nhABp/X3dpzdxbgdAAAAGEGbhknhDyZTAhn//p4QAZ3393ac3cW4PQAAAB5Bm6hJ4Q8mUwURPDP//p4QAZP39/QquMznTYqw3W0AAAAPAZ/HakK/AFQbbpRpDxPVAAAAGEGbyUnhDyZTAhn//p4QAPl7+/kSI+sJswAAABhBm+pJ4Q8mUwIZ//6eEACke6b6KlZr4acAAAAZQZoLSeEPJlMCG//+p4QAG5dWkEIn+W5fgAAAAB9Bmi1J4Q8mUwURPDP//p4QAG5X8HoXTfUr2MD9A29AAAAAEAGeTGpCvwAXSlG80xVtVCEAAAAYQZpOSeEPJlMCGf/+nhAASUQ4/ngv5Is1AAAAGUGab0nhDyZTAhv//qeEABNR8xyTuNmC09EAAAAZQZqQSeEPJlMCG//+p4QAE2+On1HGhIdWwAAAAB1BmrRJ4Q8mUwIZ//6eEAAyfv79MD54h4kk7YKeSAAAABFBntJFETwv/wAHl+88ltOpmwAAAA8BnvF0Qr8ACoWjvPOMLoAAAAAQAZ7zakK/AAo7bkVeAKCegAAAABlBmvVJqEFomUwIZ//+nhAAFPr3GhdN92CNAAAAGUGbFknhClJlMCG//qeEAAWHFaOj7jZgxrAAAAAZQZs3SeEOiZTAhv/+p4QABasVo6PuNmDGEQAAAB9Bm1lJ4Q8mUwURPDf//qeEAAXPFsYEMx+cYALEO61xAAAAEAGfeGpCvwAEtzRvNMVbkMAAAAAdQZt9SeEPJlMCGf/+nhAADue/v0wPEhG+FBoLJGEAAAARQZ+bRRE8L/8AAks99ZU9tDYAAAAPAZ+6dEK/AAMk8m8845mBAAAADwGfvGpCvwADEEXzNsyPJwAAABlBm75JqEFomUwIZ//+nhAADd+vu7Tm7jGGAAAAGEGb30nhClJlMCGf/p4QAA2Pr7u05u4xnAAAABhBm+BJ4Q6JlMCGf/6eEAANP6+7tObuMb0AAAAYQZoBSeEPJlMCG//+p4QAA0/sHr2Z8Ea5AAAAGUGaIknhDyZTAhv//qeEAAT30T/Vb5j8lEEAAAAZQZpDSeEPJlMCHf/+qZYAAoXyS0s6Op6CYAAAAB9BmmVJ4Q8mUwURPDv//qmWAAO/7bf9LOoQZoEnF+FvAAAAEAGehGpCvwAGIBY17zStLMEAAAAdQZqJSeEPJlMCHf/+qZYABZNLOUGaBT6VQxP6b+kAAAAQQZ6nRRE8L/8ABphHGdzTIQAAABABnsZ0Qr8ACTCAOdscaczgAAAADwGeyGpCvwAJK80TUlQ+gAAAABNBms1JqEFomUwId//+qZYAAJWBAAAADEGe60URLC//AACygAAAABABnwp0Qr8ACS7jvS7rDI+gAAAAEAGfDGpCvwAJK80S0MB5D6EAAAATQZsRSahBbJlMCHf//qmWAACVgQAAAAxBny9FFSwv/wAAsoEAAAAQAZ9OdEK/AAku470u6wyPoAAAABABn1BqQr8ACSvNEtDAeQ+gAAAAE0GbVUmoQWyZTAh3//6plgAAlYEAAAAMQZ9zRRUsL/8AALKAAAAAEAGfknRCvwAJLuO9LusMj6AAAAAQAZ+UakK/AAkrzRLQwHkPoQAAABNBm5lJqEFsmUwId//+qZYAAJWAAAAADEGft0UVLC//AACygQAAABABn9Z0Qr8ACS7jvS7rDI+hAAAAEAGf2GpCvwAJK80S0MB5D6AAAAATQZvdSahBbJlMCHf//qmWAACVgQAAAAxBn/tFFSwv/wAAsoAAAAAQAZ4adEK/AAku470u6wyPoQAAABABnhxqQr8ACSvNEtDAeQ+hAAAAE0GaAUmoQWyZTAh3//6plgAAlYAAAAAMQZ4/RRUsL/8AALKAAAAAEAGeXnRCvwAJLuO9LusMj6EAAAAQAZ5AakK/AAkrzRLQwHkPoAAAABNBmkVJqEFsmUwId//+qZYAAJWBAAAADEGeY0UVLC//AACygAAAABABnoJ0Qr8ACS7jvS7rDI+hAAAAEAGehGpCvwAJK80S0MB5D6EAAAATQZqJSahBbJlMCHf//qmWAACVgQAAAAxBnqdFFSwv/wAAsoEAAAAQAZ7GdEK/AAku470u6wyPoAAAABABnshqQr8ACSvNEtDAeQ+gAAAAE0GazUmoQWyZTAh3//6plgAAlYEAAAAMQZ7rRRUsL/8AALKAAAAAEAGfCnRCvwAJLuO9LusMj6AAAAAQAZ8MakK/AAkrzRLQwHkPoQAAABNBmxFJqEFsmUwId//+qZYAAJWBAAAADEGfL0UVLC//AACygQAAABABn050Qr8ACS7jvS7rDI+gAAAAEAGfUGpCvwAJK80S0MB5D6AAAAATQZtVSahBbJlMCHf//qmWAACVgQAAAAxBn3NFFSwv/wAAsoAAAAAQAZ+SdEK/AAku470u6wyPoAAAABABn5RqQr8ACSvNEtDAeQ+hAAAAE0GbmUmoQWyZTAh3//6plgAAlYAAAAAMQZ+3RRUsL/8AALKBAAAAEAGf1nRCvwAJLuO9LusMj6EAAAAQAZ/YakK/AAkrzRLQwHkPoAAAABNBm91JqEFsmUwId//+qZYAAJWBAAAADEGf+0UVLC//AACygAAAABABnhp0Qr8ACS7jvS7rDI+hAAAAEAGeHGpCvwAJK80S0MB5D6EAAAATQZoBSahBbJlMCHf//qmWAACVgAAAAAxBnj9FFSwv/wAAsoAAAAAQAZ5edEK/AAku470u6wyPoQAAABABnkBqQr8ACSvNEtDAeQ+gAAAAE0GaRUmoQWyZTAh3//6plgAAlYEAAAAMQZ5jRRUsL/8AALKAAAAAEAGegnRCvwAJLuO9LusMj6EAAAAQAZ6EakK/AAkrzRLQwHkPoQAAABNBmolJqEFsmUwId//+qZYAAJWBAAAADEGep0UVLC//AACygQAAABABnsZ0Qr8ACS7jvS7rDI+gAAAAEAGeyGpCvwAJK80S0MB5D6AAAAATQZrNSahBbJlMCHf//qmWAACVgQAAAAxBnutFFSwv/wAAsoAAAAAQAZ8KdEK/AAku470u6wyPoAAAABABnwxqQr8ACSvNEtDAeQ+hAAAAE0GbEUmoQWyZTAh3//6plgAAlYEAAAAMQZ8vRRUsL/8AALKBAAAAEAGfTnRCvwAJLuO9LusMj6AAAAAQAZ9QakK/AAkrzRLQwHkPoAAAABNBm1VJqEFsmUwId//+qZYAAJWBAAAADEGfc0UVLC//AACygAAAABABn5J0Qr8ACS7jvS7rDI+gAAAAEAGflGpCvwAJK80S0MB5D6EAAAATQZuZSahBbJlMCHf//qmWAACVgAAAAAxBn7dFFSwv/wAAsoEAAAAQAZ/WdEK/AAku470u6wyPoQAAABABn9hqQr8ACSvNEtDAeQ+gAAAAE0Gb3UmoQWyZTAh3//6plgAAlYEAAAAMQZ/7RRUsL/8AALKAAAAAEAGeGnRCvwAJLuO9LusMj6EAAAAQAZ4cakK/AAkrzRLQwHkPoQAAABNBmgFJqEFsmUwId//+qZYAAJWAAAAADEGeP0UVLC//AACygAAAABABnl50Qr8ACS7jvS7rDI+hAAAAEAGeQGpCvwAJK80S0MB5D6AAAAATQZpFSahBbJlMCHf//qmWAACVgQAAAAxBnmNFFSwv/wAAsoAAAAAQAZ6CdEK/AAku470u6wyPoQAAABABnoRqQr8ACSvNEtDAeQ+hAAAAE0GaiUmoQWyZTAh3//6plgAAlYEAAAAMQZ6nRRUsL/8AALKBAAAAEAGexnRCvwAJLuO9LusMj6AAAAAQAZ7IakK/AAkrzRLQwHkPoAAAABNBms1JqEFsmUwId//+qZYAAJWBAAAADEGe60UVLC//AACygAAAABABnwp0Qr8ACS7jvS7rDI+gAAAAEAGfDGpCvwAJK80S0MB5D6EAAAATQZsRSahBbJlMCHf//qmWAACVgQAAAAxBny9FFSwv/wAAsoEAAAAQAZ9OdEK/AAku470u6wyPoAAAABABn1BqQr8ACSvNEtDAeQ+gAAAAE0GbVUmoQWyZTAh3//6plgAAlYEAAAAMQZ9zRRUsL/8AALKAAAAAEAGfknRCvwAJLuO9LusMj6AAAAAQAZ+UakK/AAkrzRLQwHkPoQAAABNBm5lJqEFsmUwId//+qZYAAJWAAAAADEGft0UVLC//AACygQAAABABn9Z0Qr8ACS7jvS7rDI+hAAAAEAGf2GpCvwAJK80S0MB5D6AAAAATQZvdSahBbJlMCHf//qmWAACVgQAAAAxBn/tFFSwv/wAAsoAAAAAQAZ4adEK/AAku470u6wyPoQAAABABnhxqQr8ACSvNEtDAeQ+hAAAAEkGaAUmoQWyZTAhv//6nhAABJwAAAAxBnj9FFSwv/wAAsoAAAAAQAZ5edEK/AAku470u6wyPoQAAABABnkBqQr8ACSvNEtDAeQ+gAAAAEkGaRUmoQWyZTAhn//6eEAAEfQAAAAxBnmNFFSwv/wAAsoAAAAAQAZ6CdEK/AAku470u6wyPoQAAABABnoRqQr8ACSvNEtDAeQ+hAAAAGkGaiUuoQhBbJEYIKAfyAf2HgCFf/jhAABFxAAAAI0Gep0UVLC//AgHc6kvbMwq5gOgatahcCUAZaJPC3zKTNJwxAAAAEAGexnRCvwAJLuO9LusMj6AAAAAkAZ7IakK/Aq9j7UHE3arDSSblqoYHLLW7zSogoQhvllq01ZBgAAALyG1vb3YAAABsbXZoZAAAAAAAAAAAAAAAAAAAA+gAAB+QAAEAAAEAAAAAAAAAAAAAAAABAAAAAAAAAAAAAAAAAAAAAQAAAAAAAAAAAAAAAAAAQAAAAAAAAAAAAAAAAAAAAAAAAAAAAAAAAAAAAAAAAAIAAArydHJhawAAAFx0a2hkAAAAAwAAAAAAAAAAAAAAAQAAAAAAAB+QAAAAAAAAAAAAAAAAAAAAAAABAAAAAAAAAAAAAAAAAAAAAQAAAAAAAAAAAAAAAAAAQAAAAAEQAAABEAAAAAAAJGVkdHMAAAAcZWxzdAAAAAAAAAABAAAfkAAABAAAAQAAAAAKam1kaWEAAAAgbWRoZAAAAAAAAAAAAAAAAAAAMgAAAZQAVcQAAAAAAC1oZGxyAAAAAAAAAAB2aWRlAAAAAAAAAAAAAAAAVmlkZW9IYW5kbGVyAAAAChVtaW5mAAAAFHZtaGQAAAABAAAAAAAAAAAAAAAkZGluZgAAABxkcmVmAAAAAAAAAAEAAAAMdXJsIAAAAAEAAAnVc3RibAAAAJVzdHNkAAAAAAAAAAEAAACFYXZjMQAAAAAAAAABAAAAAAAAAAAAAAAAAAAAAAEQARAASAAAAEgAAAAAAAAAAQAAAAAAAAAAAAAAAAAAAAAAAAAAAAAAAAAAAAAAAAAAABj//wAAAC9hdmNDAfQADf/hABdn9AANkZsoIhHQgAAAAwCAAAAZB4oUywEABWjr48RIAAAAGHN0dHMAAAAAAAAAAQAAAMoAAAIAAAAAFHN0c3MAAAAAAAAAAQAAAAEAAAWgY3R0cwAAAAAAAACyAAAAAQAABAAAAAABAAAKAAAAAAEAAAQAAAAAAQAAAAAAAAABAAACAAAAAAEAAAYAAAAAAQAAAgAAAAAGAAAEAAAAAAEAAAgAAAAAAgAAAgAAAAABAAAKAAAAAAEAAAQAAAAAAQAAAAAAAAABAAACAAAAAAEAAAYAAAAAAQAAAgAAAAADAAAEAAAAAAEAAAYAAAAAAQAAAgAAAAABAAAEAAAAAAEAAAYAAAAAAQAAAgAAAAACAAAEAAAAAAEAAAgAAAAAAgAAAgAAAAAEAAAEAAAAAAEAAAYAAAAAAQAAAgAAAAADAAAEAAAAAAEAAAYAAAAAAQAAAgAAAAADAAAEAAAAAAEAAAoAAAAAAQAABAAAAAABAAAAAAAAAAEAAAIAAAAAAwAABAAAAAABAAAGAAAAAAEAAAIAAAAAAQAACgAAAAABAAAEAAAAAAEAAAAAAAAAAQAAAgAAAAAGAAAEAAAAAAEAAAYAAAAAAQAAAgAAAAABAAAKAAAAAAEAAAQAAAAAAQAAAAAAAAABAAACAAAAAAEAAAoAAAAAAQAABAAAAAABAAAAAAAAAAEAAAIAAAAAAQAACgAAAAABAAAEAAAAAAEAAAAAAAAAAQAAAgAAAAABAAAKAAAAAAEAAAQAAAAAAQAAAAAAAAABAAACAAAAAAEAAAoAAAAAAQAABAAAAAABAAAAAAAAAAEAAAIAAAAAAQAACgAAAAABAAAEAAAAAAEAAAAAAAAAAQAAAgAAAAABAAAKAAAAAAEAAAQAAAAAAQAAAAAAAAABAAACAAAAAAEAAAoAAAAAAQAABAAAAAABAAAAAAAAAAEAAAIAAAAAAQAACgAAAAABAAAEAAAAAAEAAAAAAAAAAQAAAgAAAAABAAAKAAAAAAEAAAQAAAAAAQAAAAAAAAABAAACAAAAAAEAAAoAAAAAAQAABAAAAAABAAAAAAAAAAEAAAIAAAAAAQAACgAAAAABAAAEAAAAAAEAAAAAAAAAAQAAAgAAAAABAAAKAAAAAAEAAAQAAAAAAQAAAAAAAAABAAACAAAAAAEAAAoAAAAAAQAABAAAAAABAAAAAAAAAAEAAAIAAAAAAQAACgAAAAABAAAEAAAAAAEAAAAAAAAAAQAAAgAAAAABAAAKAAAAAAEAAAQAAAAAAQAAAAAAAAABAAACAAAAAAEAAAoAAAAAAQAABAAAAAABAAAAAAAAAAEAAAIAAAAAAQAACgAAAAABAAAEAAAAAAEAAAAAAAAAAQAAAgAAAAABAAAKAAAAAAEAAAQAAAAAAQAAAAAAAAABAAACAAAAAAEAAAoAAAAAAQAABAAAAAABAAAAAAAAAAEAAAIAAAAAAQAACgAAAAABAAAEAAAAAAEAAAAAAAAAAQAAAgAAAAABAAAKAAAAAAEAAAQAAAAAAQAAAAAAAAABAAACAAAAAAEAAAoAAAAAAQAABAAAAAABAAAAAAAAAAEAAAIAAAAAAQAACgAAAAABAAAEAAAAAAEAAAAAAAAAAQAAAgAAAAABAAAKAAAAAAEAAAQAAAAAAQAAAAAAAAABAAACAAAAAAEAAAoAAAAAAQAABAAAAAABAAAAAAAAAAEAAAIAAAAAAQAACgAAAAABAAAEAAAAAAEAAAAAAAAAAQAAAgAAAAABAAAKAAAAAAEAAAQAAAAAAQAAAAAAAAABAAACAAAAAAEAAAoAAAAAAQAABAAAAAABAAAAAAAAAAEAAAIAAAAAAQAACgAAAAABAAAEAAAAAAEAAAAAAAAAAQAAAgAAAAABAAAKAAAAAAEAAAQAAAAAAQAAAAAAAAABAAACAAAAAAEAAAoAAAAAAQAABAAAAAABAAAAAAAAAAEAAAIAAAAAAQAACgAAAAABAAAEAAAAAAEAAAAAAAAAAQAAAgAAAAAcc3RzYwAAAAAAAAABAAAAAQAAAMoAAAABAAADPHN0c3oAAAAAAAAAAAAAAMoAAAWnAAAAIQAAABcAAAAUAAAAEwAAAB4AAAAUAAAAHgAAABsAAAAcAAAAHAAAAB8AAAAdAAAAHwAAABMAAAATAAAAJwAAABoAAAAUAAAAFAAAAB4AAAAUAAAAHAAAABwAAAAcAAAAIgAAABQAAAAcAAAAIQAAABQAAAAcAAAAHAAAACEAAAAWAAAAFAAAAB0AAAAcAAAAHAAAABwAAAAiAAAAEwAAABwAAAAcAAAAHQAAACMAAAAUAAAAHAAAAB0AAAAdAAAAIQAAABUAAAATAAAAFAAAAB0AAAAdAAAAHQAAACMAAAAUAAAAIQAAABUAAAATAAAAEwAAAB0AAAAcAAAAHAAAABwAAAAdAAAAHQAAACMAAAAUAAAAIQAAABQAAAAUAAAAEwAAABcAAAAQAAAAFAAAABQAAAAXAAAAEAAAABQAAAAUAAAAFwAAABAAAAAUAAAAFAAAABcAAAAQAAAAFAAAABQAAAAXAAAAEAAAABQAAAAUAAAAFwAAABAAAAAUAAAAFAAAABcAAAAQAAAAFAAAABQAAAAXAAAAEAAAABQAAAAUAAAAFwAAABAAAAAUAAAAFAAAABcAAAAQAAAAFAAAABQAAAAXAAAAEAAAABQAAAAUAAAAFwAAABAAAAAUAAAAFAAAABcAAAAQAAAAFAAAABQAAAAXAAAAEAAAABQAAAAUAAAAFwAAABAAAAAUAAAAFAAAABcAAAAQAAAAFAAAABQAAAAXAAAAEAAAABQAAAAUAAAAFwAAABAAAAAUAAAAFAAAABcAAAAQAAAAFAAAABQAAAAXAAAAEAAAABQAAAAUAAAAFwAAABAAAAAUAAAAFAAAABcAAAAQAAAAFAAAABQAAAAXAAAAEAAAABQAAAAUAAAAFwAAABAAAAAUAAAAFAAAABcAAAAQAAAAFAAAABQAAAAXAAAAEAAAABQAAAAUAAAAFwAAABAAAAAUAAAAFAAAABcAAAAQAAAAFAAAABQAAAAXAAAAEAAAABQAAAAUAAAAFgAAABAAAAAUAAAAFAAAABYAAAAQAAAAFAAAABQAAAAeAAAAJwAAABQAAAAoAAAAFHN0Y28AAAAAAAAAAQAAADAAAABidWR0YQAAAFptZXRhAAAAAAAAACFoZGxyAAAAAAAAAABtZGlyYXBwbAAAAAAAAAAAAAAAAC1pbHN0AAAAJal0b28AAAAdZGF0YQAAAAEAAAAATGF2ZjU3LjgzLjEwMA==\" type=\"video/mp4\" />\n",
              "             </video>"
            ],
            "text/plain": [
              "<IPython.core.display.HTML object>"
            ]
          },
          "metadata": {
            "tags": []
          },
          "execution_count": 41
        }
      ]
    },
    {
      "cell_type": "markdown",
      "metadata": {
        "id": "a0sIsYmODenx",
        "colab_type": "text"
      },
      "source": [
        "On observe que l'on obtient un meilleur score, avec très peu de malus en test et d'époques en apprentissage (18), ce qui valide la petinence de la démarche proposée."
      ]
    },
    {
      "cell_type": "markdown",
      "metadata": {
        "id": "FecZM1gWWLKD",
        "colab_type": "text"
      },
      "source": [
        "***\n",
        "***\n",
        "__BONUS question__ Use the expert DQN from the previous question to generate some winning games. Train a model that mimicks its behavior. Compare the performances."
      ]
    },
    {
      "cell_type": "markdown",
      "metadata": {
        "id": "2gVjvDzgWLKF",
        "colab_type": "text"
      },
      "source": [
        ""
      ]
    },
    {
      "cell_type": "markdown",
      "metadata": {
        "id": "3O9o8U-GWLKH",
        "colab_type": "text"
      },
      "source": [
        "***"
      ]
    }
  ]
}
